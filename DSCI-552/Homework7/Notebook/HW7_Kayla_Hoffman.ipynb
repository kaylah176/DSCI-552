{
 "cells": [
  {
   "cell_type": "markdown",
   "metadata": {},
   "source": [
    "### Kayla Hoffman \n",
    "### Github User: kaylah176\n",
    "### USC ID: "
   ]
  },
  {
   "cell_type": "code",
   "execution_count": 1,
   "metadata": {},
   "outputs": [],
   "source": [
    "# Import libraries\n",
    "import math\n",
    "import matplotlib.pyplot as plt\n",
    "import numpy as np\n",
    "import pandas as pd\n",
    "import seaborn as sns\n",
    "import statistics\n",
    "\n",
    "from imblearn.over_sampling import SMOTE\n",
    "from imblearn.pipeline import Pipeline as imbpipeline\n",
    "from sklearn.cluster import KMeans\n",
    "from sklearn.metrics import accuracy_score, hamming_loss, silhouette_score\n",
    "from sklearn.model_selection import GridSearchCV, train_test_split\n",
    "from sklearn.preprocessing import StandardScaler\n",
    "from sklearn.svm import LinearSVC, SVC\n",
    "from tqdm.notebook import tqdm_notebook\n",
    "\n",
    "import warnings \n",
    "from sklearn.exceptions import ConvergenceWarning\n",
    "\n",
    "warnings.filterwarnings(\"ignore\", category=ConvergenceWarning)"
   ]
  },
  {
   "cell_type": "markdown",
   "metadata": {},
   "source": [
    "# 1. Multi-class and Multi-Label Classification Using Support Vector Machines"
   ]
  },
  {
   "cell_type": "markdown",
   "metadata": {},
   "source": [
    "## (a)\n",
    "Download the Anuran Calls (MFCCs) Data Set from: https://archive.ics.uci.edu/ml/datasets/Anuran+Calls+%28MFCCs%29. Choose 70% of the data randomly as the training set."
   ]
  },
  {
   "cell_type": "code",
   "execution_count": 3,
   "metadata": {},
   "outputs": [
    {
     "data": {
      "text/html": [
       "<div>\n",
       "<style scoped>\n",
       "    .dataframe tbody tr th:only-of-type {\n",
       "        vertical-align: middle;\n",
       "    }\n",
       "\n",
       "    .dataframe tbody tr th {\n",
       "        vertical-align: top;\n",
       "    }\n",
       "\n",
       "    .dataframe thead th {\n",
       "        text-align: right;\n",
       "    }\n",
       "</style>\n",
       "<table border=\"1\" class=\"dataframe\">\n",
       "  <thead>\n",
       "    <tr style=\"text-align: right;\">\n",
       "      <th></th>\n",
       "      <th>MFCCs_ 1</th>\n",
       "      <th>MFCCs_ 2</th>\n",
       "      <th>MFCCs_ 3</th>\n",
       "      <th>MFCCs_ 4</th>\n",
       "      <th>MFCCs_ 5</th>\n",
       "      <th>MFCCs_ 6</th>\n",
       "      <th>MFCCs_ 7</th>\n",
       "      <th>MFCCs_ 8</th>\n",
       "      <th>MFCCs_ 9</th>\n",
       "      <th>MFCCs_10</th>\n",
       "      <th>...</th>\n",
       "      <th>MFCCs_16</th>\n",
       "      <th>MFCCs_17</th>\n",
       "      <th>MFCCs_18</th>\n",
       "      <th>MFCCs_19</th>\n",
       "      <th>MFCCs_20</th>\n",
       "      <th>MFCCs_21</th>\n",
       "      <th>MFCCs_22</th>\n",
       "      <th>Family</th>\n",
       "      <th>Genus</th>\n",
       "      <th>Species</th>\n",
       "    </tr>\n",
       "  </thead>\n",
       "  <tbody>\n",
       "    <tr>\n",
       "      <th>0</th>\n",
       "      <td>1.0</td>\n",
       "      <td>0.152936</td>\n",
       "      <td>-0.105586</td>\n",
       "      <td>0.200722</td>\n",
       "      <td>0.317201</td>\n",
       "      <td>0.260764</td>\n",
       "      <td>0.100945</td>\n",
       "      <td>-0.150063</td>\n",
       "      <td>-0.171128</td>\n",
       "      <td>0.124676</td>\n",
       "      <td>...</td>\n",
       "      <td>-0.024017</td>\n",
       "      <td>-0.108351</td>\n",
       "      <td>-0.077623</td>\n",
       "      <td>-0.009568</td>\n",
       "      <td>0.057684</td>\n",
       "      <td>0.118680</td>\n",
       "      <td>0.014038</td>\n",
       "      <td>Leptodactylidae</td>\n",
       "      <td>Adenomera</td>\n",
       "      <td>AdenomeraAndre</td>\n",
       "    </tr>\n",
       "    <tr>\n",
       "      <th>1</th>\n",
       "      <td>1.0</td>\n",
       "      <td>0.171534</td>\n",
       "      <td>-0.098975</td>\n",
       "      <td>0.268425</td>\n",
       "      <td>0.338672</td>\n",
       "      <td>0.268353</td>\n",
       "      <td>0.060835</td>\n",
       "      <td>-0.222475</td>\n",
       "      <td>-0.207693</td>\n",
       "      <td>0.170883</td>\n",
       "      <td>...</td>\n",
       "      <td>0.012022</td>\n",
       "      <td>-0.090974</td>\n",
       "      <td>-0.056510</td>\n",
       "      <td>-0.035303</td>\n",
       "      <td>0.020140</td>\n",
       "      <td>0.082263</td>\n",
       "      <td>0.029056</td>\n",
       "      <td>Leptodactylidae</td>\n",
       "      <td>Adenomera</td>\n",
       "      <td>AdenomeraAndre</td>\n",
       "    </tr>\n",
       "    <tr>\n",
       "      <th>2</th>\n",
       "      <td>1.0</td>\n",
       "      <td>0.152317</td>\n",
       "      <td>-0.082973</td>\n",
       "      <td>0.287128</td>\n",
       "      <td>0.276014</td>\n",
       "      <td>0.189867</td>\n",
       "      <td>0.008714</td>\n",
       "      <td>-0.242234</td>\n",
       "      <td>-0.219153</td>\n",
       "      <td>0.232538</td>\n",
       "      <td>...</td>\n",
       "      <td>0.083536</td>\n",
       "      <td>-0.050691</td>\n",
       "      <td>-0.023590</td>\n",
       "      <td>-0.066722</td>\n",
       "      <td>-0.025083</td>\n",
       "      <td>0.099108</td>\n",
       "      <td>0.077162</td>\n",
       "      <td>Leptodactylidae</td>\n",
       "      <td>Adenomera</td>\n",
       "      <td>AdenomeraAndre</td>\n",
       "    </tr>\n",
       "    <tr>\n",
       "      <th>3</th>\n",
       "      <td>1.0</td>\n",
       "      <td>0.224392</td>\n",
       "      <td>0.118985</td>\n",
       "      <td>0.329432</td>\n",
       "      <td>0.372088</td>\n",
       "      <td>0.361005</td>\n",
       "      <td>0.015501</td>\n",
       "      <td>-0.194347</td>\n",
       "      <td>-0.098181</td>\n",
       "      <td>0.270375</td>\n",
       "      <td>...</td>\n",
       "      <td>-0.050224</td>\n",
       "      <td>-0.136009</td>\n",
       "      <td>-0.177037</td>\n",
       "      <td>-0.130498</td>\n",
       "      <td>-0.054766</td>\n",
       "      <td>-0.018691</td>\n",
       "      <td>0.023954</td>\n",
       "      <td>Leptodactylidae</td>\n",
       "      <td>Adenomera</td>\n",
       "      <td>AdenomeraAndre</td>\n",
       "    </tr>\n",
       "    <tr>\n",
       "      <th>4</th>\n",
       "      <td>1.0</td>\n",
       "      <td>0.087817</td>\n",
       "      <td>-0.068345</td>\n",
       "      <td>0.306967</td>\n",
       "      <td>0.330923</td>\n",
       "      <td>0.249144</td>\n",
       "      <td>0.006884</td>\n",
       "      <td>-0.265423</td>\n",
       "      <td>-0.172700</td>\n",
       "      <td>0.266434</td>\n",
       "      <td>...</td>\n",
       "      <td>0.062837</td>\n",
       "      <td>-0.048885</td>\n",
       "      <td>-0.053074</td>\n",
       "      <td>-0.088550</td>\n",
       "      <td>-0.031346</td>\n",
       "      <td>0.108610</td>\n",
       "      <td>0.079244</td>\n",
       "      <td>Leptodactylidae</td>\n",
       "      <td>Adenomera</td>\n",
       "      <td>AdenomeraAndre</td>\n",
       "    </tr>\n",
       "    <tr>\n",
       "      <th>...</th>\n",
       "      <td>...</td>\n",
       "      <td>...</td>\n",
       "      <td>...</td>\n",
       "      <td>...</td>\n",
       "      <td>...</td>\n",
       "      <td>...</td>\n",
       "      <td>...</td>\n",
       "      <td>...</td>\n",
       "      <td>...</td>\n",
       "      <td>...</td>\n",
       "      <td>...</td>\n",
       "      <td>...</td>\n",
       "      <td>...</td>\n",
       "      <td>...</td>\n",
       "      <td>...</td>\n",
       "      <td>...</td>\n",
       "      <td>...</td>\n",
       "      <td>...</td>\n",
       "      <td>...</td>\n",
       "      <td>...</td>\n",
       "      <td>...</td>\n",
       "    </tr>\n",
       "    <tr>\n",
       "      <th>7190</th>\n",
       "      <td>1.0</td>\n",
       "      <td>-0.554504</td>\n",
       "      <td>-0.337717</td>\n",
       "      <td>0.035533</td>\n",
       "      <td>0.034511</td>\n",
       "      <td>0.443451</td>\n",
       "      <td>0.093889</td>\n",
       "      <td>-0.100753</td>\n",
       "      <td>0.037087</td>\n",
       "      <td>0.081075</td>\n",
       "      <td>...</td>\n",
       "      <td>-0.000861</td>\n",
       "      <td>0.069430</td>\n",
       "      <td>0.071001</td>\n",
       "      <td>0.021591</td>\n",
       "      <td>0.052449</td>\n",
       "      <td>-0.021860</td>\n",
       "      <td>-0.079860</td>\n",
       "      <td>Hylidae</td>\n",
       "      <td>Scinax</td>\n",
       "      <td>ScinaxRuber</td>\n",
       "    </tr>\n",
       "    <tr>\n",
       "      <th>7191</th>\n",
       "      <td>1.0</td>\n",
       "      <td>-0.517273</td>\n",
       "      <td>-0.370574</td>\n",
       "      <td>0.030673</td>\n",
       "      <td>0.068097</td>\n",
       "      <td>0.402890</td>\n",
       "      <td>0.096628</td>\n",
       "      <td>-0.116460</td>\n",
       "      <td>0.063727</td>\n",
       "      <td>0.089034</td>\n",
       "      <td>...</td>\n",
       "      <td>0.006457</td>\n",
       "      <td>0.061127</td>\n",
       "      <td>0.068978</td>\n",
       "      <td>0.017745</td>\n",
       "      <td>0.046461</td>\n",
       "      <td>-0.015418</td>\n",
       "      <td>-0.101892</td>\n",
       "      <td>Hylidae</td>\n",
       "      <td>Scinax</td>\n",
       "      <td>ScinaxRuber</td>\n",
       "    </tr>\n",
       "    <tr>\n",
       "      <th>7192</th>\n",
       "      <td>1.0</td>\n",
       "      <td>-0.582557</td>\n",
       "      <td>-0.343237</td>\n",
       "      <td>0.029468</td>\n",
       "      <td>0.064179</td>\n",
       "      <td>0.385596</td>\n",
       "      <td>0.114905</td>\n",
       "      <td>-0.103317</td>\n",
       "      <td>0.070370</td>\n",
       "      <td>0.081317</td>\n",
       "      <td>...</td>\n",
       "      <td>0.008696</td>\n",
       "      <td>0.082474</td>\n",
       "      <td>0.077771</td>\n",
       "      <td>-0.009688</td>\n",
       "      <td>0.027834</td>\n",
       "      <td>-0.000531</td>\n",
       "      <td>-0.080425</td>\n",
       "      <td>Hylidae</td>\n",
       "      <td>Scinax</td>\n",
       "      <td>ScinaxRuber</td>\n",
       "    </tr>\n",
       "    <tr>\n",
       "      <th>7193</th>\n",
       "      <td>1.0</td>\n",
       "      <td>-0.519497</td>\n",
       "      <td>-0.307553</td>\n",
       "      <td>-0.004922</td>\n",
       "      <td>0.072865</td>\n",
       "      <td>0.377131</td>\n",
       "      <td>0.086866</td>\n",
       "      <td>-0.115799</td>\n",
       "      <td>0.056979</td>\n",
       "      <td>0.089316</td>\n",
       "      <td>...</td>\n",
       "      <td>0.001924</td>\n",
       "      <td>0.051796</td>\n",
       "      <td>0.069073</td>\n",
       "      <td>0.017963</td>\n",
       "      <td>0.041803</td>\n",
       "      <td>-0.027911</td>\n",
       "      <td>-0.096895</td>\n",
       "      <td>Hylidae</td>\n",
       "      <td>Scinax</td>\n",
       "      <td>ScinaxRuber</td>\n",
       "    </tr>\n",
       "    <tr>\n",
       "      <th>7194</th>\n",
       "      <td>1.0</td>\n",
       "      <td>-0.508833</td>\n",
       "      <td>-0.324106</td>\n",
       "      <td>0.062068</td>\n",
       "      <td>0.078211</td>\n",
       "      <td>0.397188</td>\n",
       "      <td>0.094596</td>\n",
       "      <td>-0.117672</td>\n",
       "      <td>0.058874</td>\n",
       "      <td>0.076180</td>\n",
       "      <td>...</td>\n",
       "      <td>0.004158</td>\n",
       "      <td>0.061455</td>\n",
       "      <td>0.072983</td>\n",
       "      <td>-0.003980</td>\n",
       "      <td>0.031560</td>\n",
       "      <td>-0.029355</td>\n",
       "      <td>-0.087910</td>\n",
       "      <td>Hylidae</td>\n",
       "      <td>Scinax</td>\n",
       "      <td>ScinaxRuber</td>\n",
       "    </tr>\n",
       "  </tbody>\n",
       "</table>\n",
       "<p>7195 rows × 25 columns</p>\n",
       "</div>"
      ],
      "text/plain": [
       "      MFCCs_ 1  MFCCs_ 2  MFCCs_ 3  MFCCs_ 4  MFCCs_ 5  MFCCs_ 6  MFCCs_ 7  \\\n",
       "0          1.0  0.152936 -0.105586  0.200722  0.317201  0.260764  0.100945   \n",
       "1          1.0  0.171534 -0.098975  0.268425  0.338672  0.268353  0.060835   \n",
       "2          1.0  0.152317 -0.082973  0.287128  0.276014  0.189867  0.008714   \n",
       "3          1.0  0.224392  0.118985  0.329432  0.372088  0.361005  0.015501   \n",
       "4          1.0  0.087817 -0.068345  0.306967  0.330923  0.249144  0.006884   \n",
       "...        ...       ...       ...       ...       ...       ...       ...   \n",
       "7190       1.0 -0.554504 -0.337717  0.035533  0.034511  0.443451  0.093889   \n",
       "7191       1.0 -0.517273 -0.370574  0.030673  0.068097  0.402890  0.096628   \n",
       "7192       1.0 -0.582557 -0.343237  0.029468  0.064179  0.385596  0.114905   \n",
       "7193       1.0 -0.519497 -0.307553 -0.004922  0.072865  0.377131  0.086866   \n",
       "7194       1.0 -0.508833 -0.324106  0.062068  0.078211  0.397188  0.094596   \n",
       "\n",
       "      MFCCs_ 8  MFCCs_ 9  MFCCs_10  ...  MFCCs_16  MFCCs_17  MFCCs_18  \\\n",
       "0    -0.150063 -0.171128  0.124676  ... -0.024017 -0.108351 -0.077623   \n",
       "1    -0.222475 -0.207693  0.170883  ...  0.012022 -0.090974 -0.056510   \n",
       "2    -0.242234 -0.219153  0.232538  ...  0.083536 -0.050691 -0.023590   \n",
       "3    -0.194347 -0.098181  0.270375  ... -0.050224 -0.136009 -0.177037   \n",
       "4    -0.265423 -0.172700  0.266434  ...  0.062837 -0.048885 -0.053074   \n",
       "...        ...       ...       ...  ...       ...       ...       ...   \n",
       "7190 -0.100753  0.037087  0.081075  ... -0.000861  0.069430  0.071001   \n",
       "7191 -0.116460  0.063727  0.089034  ...  0.006457  0.061127  0.068978   \n",
       "7192 -0.103317  0.070370  0.081317  ...  0.008696  0.082474  0.077771   \n",
       "7193 -0.115799  0.056979  0.089316  ...  0.001924  0.051796  0.069073   \n",
       "7194 -0.117672  0.058874  0.076180  ...  0.004158  0.061455  0.072983   \n",
       "\n",
       "      MFCCs_19  MFCCs_20  MFCCs_21  MFCCs_22           Family      Genus  \\\n",
       "0    -0.009568  0.057684  0.118680  0.014038  Leptodactylidae  Adenomera   \n",
       "1    -0.035303  0.020140  0.082263  0.029056  Leptodactylidae  Adenomera   \n",
       "2    -0.066722 -0.025083  0.099108  0.077162  Leptodactylidae  Adenomera   \n",
       "3    -0.130498 -0.054766 -0.018691  0.023954  Leptodactylidae  Adenomera   \n",
       "4    -0.088550 -0.031346  0.108610  0.079244  Leptodactylidae  Adenomera   \n",
       "...        ...       ...       ...       ...              ...        ...   \n",
       "7190  0.021591  0.052449 -0.021860 -0.079860          Hylidae     Scinax   \n",
       "7191  0.017745  0.046461 -0.015418 -0.101892          Hylidae     Scinax   \n",
       "7192 -0.009688  0.027834 -0.000531 -0.080425          Hylidae     Scinax   \n",
       "7193  0.017963  0.041803 -0.027911 -0.096895          Hylidae     Scinax   \n",
       "7194 -0.003980  0.031560 -0.029355 -0.087910          Hylidae     Scinax   \n",
       "\n",
       "             Species  \n",
       "0     AdenomeraAndre  \n",
       "1     AdenomeraAndre  \n",
       "2     AdenomeraAndre  \n",
       "3     AdenomeraAndre  \n",
       "4     AdenomeraAndre  \n",
       "...              ...  \n",
       "7190     ScinaxRuber  \n",
       "7191     ScinaxRuber  \n",
       "7192     ScinaxRuber  \n",
       "7193     ScinaxRuber  \n",
       "7194     ScinaxRuber  \n",
       "\n",
       "[7195 rows x 25 columns]"
      ]
     },
     "metadata": {},
     "output_type": "display_data"
    }
   ],
   "source": [
    "# Read the data \n",
    "AnuranCalls = pd.read_csv(\"../Data_HW7/Anuran Calls (MFCCs)/Frogs_MFCCs.csv\")\n",
    "\n",
    "# Discard the RecordID column \n",
    "AnuranCalls.drop('RecordID', axis=1, inplace=True)\n",
    "display(AnuranCalls)"
   ]
  },
  {
   "cell_type": "code",
   "execution_count": 4,
   "metadata": {},
   "outputs": [
    {
     "name": "stdout",
     "output_type": "stream",
     "text": [
      "Train set shape: (5036, 25)\n",
      "Test set shape: (2159, 25)\n"
     ]
    }
   ],
   "source": [
    "# Split train and test data\n",
    "# Choose 70% of the data randomly as the training set, the rest as testing set\n",
    "AnuranCalls_train, AnuranCalls_test = train_test_split(AnuranCalls, train_size=0.7, shuffle=True, random_state=42)\n",
    "print(\"Train set shape:\", AnuranCalls_train.shape)\n",
    "print(\"Test set shape:\", AnuranCalls_test.shape)"
   ]
  },
  {
   "cell_type": "markdown",
   "metadata": {},
   "source": [
    "## (b) \n",
    "Each instance has three labels: Families, Genus, and Species. Each of the labels has multiple classes. We wish to solve a multi-class and multi-label problem. One of the most important approaches to multi-label classification is to train a classifier for each label (binary relevance). We first try this approach:"
   ]
  },
  {
   "cell_type": "markdown",
   "metadata": {},
   "source": [
    "### i.\n",
    "Research exact match and hamming score/loss methods for evaluating multilabel classification and use them in evaluating the classifiers in this problem."
   ]
  },
  {
   "cell_type": "markdown",
   "metadata": {},
   "source": [
    "Some articles/sources that I found helpful: \n",
    "* [Deep dive into multi-label classification..! (With detailed Case Study)](https://towardsdatascience.com/journey-to-the-center-of-multi-label-classification-384c40229bff)\n",
    "* [Metrics and scoring: quantifying the quality of predictions: Hamming loss](https://scikit-learn.org/stable/modules/model_evaluation.html#hamming-loss)\n",
    "* [Metrics for Multilabel Classification](https://mmuratarat.github.io/2020-01-25/multilabel_classification_metrics)\n",
    "\n",
    "We will use both methods to evaluate classifiers in this problem."
   ]
  },
  {
   "cell_type": "markdown",
   "metadata": {},
   "source": [
    "### ii.\n",
    "Train a SVM for each of the labels, using Gaussian kernels and one versus all classifiers. Determine the weight of the SVM penalty and the width of the Gaussian Kernel using 10 fold cross validation. You are welcome to try to solve the problem with both standardized and raw attributes and report the results."
   ]
  },
  {
   "cell_type": "markdown",
   "metadata": {},
   "source": [
    "Following the instruction in the footnote, we will train the SVM with very large and very small parameters on the whole training data and find very large and very small parameters for which the training accuracy is not below a threshold (70%). Then we can select a fixed number of parameters (e.g., 20) between those points for cross validation."
   ]
  },
  {
   "cell_type": "code",
   "execution_count": 5,
   "metadata": {},
   "outputs": [],
   "source": [
    "# Specify X_train, y_train, X_test, y_test\n",
    "X_train = AnuranCalls_train.iloc[:, :-3]\n",
    "y_train = AnuranCalls_train.iloc[:, -3:]\n",
    "X_test = AnuranCalls_test.iloc[:, :-3]\n",
    "y_test = AnuranCalls_test.iloc[:, -3:]"
   ]
  },
  {
   "cell_type": "code",
   "execution_count": 6,
   "metadata": {},
   "outputs": [
    {
     "name": "stdout",
     "output_type": "stream",
     "text": [
      "[1, 10, 100, 1000, 10000]\n",
      "[1e-05, 0.0001, 0.001, 0.01, 0.1]\n"
     ]
    }
   ],
   "source": [
    "# Define very large parameters\n",
    "C_large = [10**i for i in range(0, 5)]\n",
    "gamma_large = [10**i for i in range(0, 5)]\n",
    "print(C_large)\n",
    "# Define very small parameters\n",
    "C_small = [10**i for i in range(-5, 0)]\n",
    "gamma_small = [10**i for i in range(-5, 0)]\n",
    "print(C_small)"
   ]
  },
  {
   "cell_type": "code",
   "execution_count": 7,
   "metadata": {},
   "outputs": [],
   "source": [
    "# Train SVM models using GridSearchCV for multi-label or one-vs-all classification --> this case is multi label \n",
    "\n",
    "\n",
    "    ## Parameters: \n",
    "    # X_train (array-like): Feature matrix \n",
    "    # y_train (DataFrame or array-like): Target labels (multi column for multi label or binary for one vs all)\n",
    "    # C_input (list): List of penality parameter values to search \n",
    "    # Gamma_input (list): List of kernel width values to search \n",
    "\n",
    "# Define a function to train SVM models for multi-label or one-vs-all classification\n",
    "def svm_model(X_train, y_train, C_input, gamma_input):\n",
    "    # Define parameter grid\n",
    "    params = {\n",
    "        'C': C_input,\n",
    "        'gamma': gamma_input,\n",
    "        'kernel': ['rbf'],\n",
    "        'decision_function_shape': ['ovr']  # One-vs-rest strategy\n",
    "    }\n",
    "\n",
    "    # Dictionary to store trained models\n",
    "    models = {}\n",
    "\n",
    "    # Train SVM for each label (multi-label scenario or one-vs-all)\n",
    "    for label in y_train.columns:  # Assuming y_train is a DataFrame with columns for each label\n",
    "        print(f\"Training SVM for label {label}...\")\n",
    "        \n",
    "        # Initialize GridSearchCV object\n",
    "        svclassifier = GridSearchCV(estimator=SVC(), param_grid=params, cv=10, n_jobs=8, scoring='accuracy')\n",
    "        \n",
    "        # Fit the model for the current label\n",
    "        svclassifier.fit(X_train, y_train[label])\n",
    "        \n",
    "        # Get the best model and cross-validation score\n",
    "        best_model = svclassifier.best_estimator_\n",
    "        best_params = svclassifier.best_params_\n",
    "        cv_score = svclassifier.best_score_\n",
    "        \n",
    "        # Store the trained model in the dictionary\n",
    "        models[label] = best_model\n",
    "        \n",
    "        # Report model statistics\n",
    "        print(f\"Label {label}: Best C={best_params['C']}, γ={best_params['gamma']}\")\n",
    "        print(f\"Best estimator: {best_model}\")\n",
    "        print(f\"Cross-validation score: {cv_score}\\n\")\n",
    "\n",
    "    return models  # Return dictionary of trained models"
   ]
  },
  {
   "cell_type": "markdown",
   "metadata": {},
   "source": [
    "### SVMs - Large Parameters"
   ]
  },
  {
   "cell_type": "code",
   "execution_count": 8,
   "metadata": {},
   "outputs": [
    {
     "name": "stdout",
     "output_type": "stream",
     "text": [
      "Training SVM for label Family...\n",
      "Label Family: Best C=100, γ=1\n",
      "Best estimator: SVC(C=100, gamma=1)\n",
      "Cross-validation score: 0.9926532077377006\n",
      "\n",
      "Training SVM for label Genus...\n",
      "Label Genus: Best C=100, γ=1\n",
      "Best estimator: SVC(C=100, gamma=1)\n",
      "Cross-validation score: 0.9896738615923507\n",
      "\n",
      "Training SVM for label Species...\n",
      "Label Species: Best C=10, γ=1\n",
      "Best estimator: SVC(C=10, gamma=1)\n",
      "Cross-validation score: 0.9892766417368802\n",
      "\n"
     ]
    }
   ],
   "source": [
    "trained_models = svm_model(X_train, y_train, C_large, gamma_large)"
   ]
  },
  {
   "cell_type": "markdown",
   "metadata": {},
   "source": [
    "### SVMs - Small Parameters"
   ]
  },
  {
   "cell_type": "code",
   "execution_count": 9,
   "metadata": {},
   "outputs": [
    {
     "name": "stdout",
     "output_type": "stream",
     "text": [
      "Training SVM for label Family...\n",
      "Label Family: Best C=0.1, γ=0.1\n",
      "Best estimator: SVC(C=0.1, gamma=0.1)\n",
      "Cross-validation score: 0.8711311496102748\n",
      "\n",
      "Training SVM for label Genus...\n",
      "Label Genus: Best C=0.1, γ=0.1\n",
      "Best estimator: SVC(C=0.1, gamma=0.1)\n",
      "Cross-validation score: 0.8250603521726783\n",
      "\n",
      "Training SVM for label Species...\n",
      "Label Species: Best C=0.1, γ=0.1\n",
      "Best estimator: SVC(C=0.1, gamma=0.1)\n",
      "Cross-validation score: 0.8399562939821388\n",
      "\n"
     ]
    }
   ],
   "source": [
    "trained_models = svm_model(X_train, y_train, C_small, gamma_small)"
   ]
  },
  {
   "cell_type": "markdown",
   "metadata": {},
   "source": [
    "From what we obtained using both smaller and larger parameters, we want to narrow down our cross validation parameters in the range of log $\\log{(\\lambda)} \\in\\{-1, \\dots, 2\\}$ and by also using linear increments for the Gaussian Kernel parameter in the range of {0.1, ... , 1}"
   ]
  },
  {
   "cell_type": "markdown",
   "metadata": {},
   "source": [
    "### SVMs - The Final Model"
   ]
  },
  {
   "cell_type": "code",
   "execution_count": 10,
   "metadata": {},
   "outputs": [
    {
     "name": "stdout",
     "output_type": "stream",
     "text": [
      "[  0.1          0.14384499   0.20691381   0.29763514   0.42813324\n",
      "   0.61584821   0.88586679   1.27427499   1.83298071   2.6366509\n",
      "   3.79269019   5.45559478   7.8475997   11.28837892  16.23776739\n",
      "  23.35721469  33.59818286  48.32930239  69.51927962 100.        ]\n",
      "[0.1        0.14736842 0.19473684 0.24210526 0.28947368 0.33684211\n",
      " 0.38421053 0.43157895 0.47894737 0.52631579 0.57368421 0.62105263\n",
      " 0.66842105 0.71578947 0.76315789 0.81052632 0.85789474 0.90526316\n",
      " 0.95263158 1.        ]\n"
     ]
    }
   ],
   "source": [
    "# Create paramter sets\n",
    "C = np.logspace(-1, 2, 20)\n",
    "print(C)\n",
    "gamma = np.linspace(0.1, 1, 20)\n",
    "print(gamma)"
   ]
  },
  {
   "cell_type": "code",
   "execution_count": 11,
   "metadata": {},
   "outputs": [
    {
     "name": "stdout",
     "output_type": "stream",
     "text": [
      "Training SVM for label Family...\n",
      "Label Family: Best C=100.0, γ=0.9052631578947369\n",
      "Best estimator: SVC(C=100.0, gamma=0.9052631578947369)\n",
      "Cross-validation score: 0.9926532077377006\n",
      "\n",
      "Training SVM for label Genus...\n",
      "Label Genus: Best C=69.51927961775606, γ=1.0\n",
      "Best estimator: SVC(C=69.51927961775606, gamma=1.0)\n",
      "Cross-validation score: 0.9896738615923507\n",
      "\n",
      "Training SVM for label Species...\n",
      "Label Species: Best C=7.847599703514611, γ=1.0\n",
      "Best estimator: SVC(C=7.847599703514611, gamma=1.0)\n",
      "Cross-validation score: 0.989475054435293\n",
      "\n"
     ]
    }
   ],
   "source": [
    "# Train SVM models using GridSearchCV for multi-label or one-vs-all classification --> this case is multi label \n",
    "\n",
    "\n",
    "    ## Parameters: \n",
    "    # X_train (array-like): Feature matrix \n",
    "    # y_train (DataFrame or array-like): Target labels (multi column for multi label or binary for one vs all)\n",
    "    # C_input (list): List of penality parameter values to search \n",
    "    # Gamma_input (list): List of kernel width values to search \n",
    "\n",
    "\n",
    "# Define parameter grid\n",
    "params = {\n",
    "    'C': C,\n",
    "    'gamma': gamma,\n",
    "    'kernel': ['rbf'],\n",
    "    'decision_function_shape': ['ovr']  # One-vs-rest strategy\n",
    "}\n",
    "\n",
    "# Train SVM for each label (multi-label scenario or one-vs-all)\n",
    "for label in y_train.columns:  # Assuming y_train is a DataFrame with columns for each label\n",
    "    print(f\"Training SVM for label {label}...\")\n",
    "        \n",
    "    # Initialize GridSearchCV object\n",
    "    svclassifier = GridSearchCV(estimator=SVC(), param_grid=params, cv=10, n_jobs=8, scoring='accuracy')\n",
    "        \n",
    "    # Fit the model for the current label\n",
    "    svclassifier.fit(X_train, y_train[label])\n",
    "        \n",
    "    # Get the best model and cross-validation score\n",
    "    best_model = svclassifier.best_estimator_\n",
    "    best_params = svclassifier.best_params_\n",
    "    cv_score = svclassifier.best_score_\n",
    "\n",
    "    # Prediction on training and testing set\n",
    "    y_train_pred = svclassifier.predict(X_train)\n",
    "    y_test_pred = svclassifier.predict(X_test)\n",
    "    \n",
    "    # Obtain exact match score\n",
    "    train_score = accuracy_score(y_train[label], y_train_pred)\n",
    "    test_score = accuracy_score(y_test[label], y_test_pred)\n",
    "    \n",
    "    # Obtain hamming loss\n",
    "    hamming_loss_train = hamming_loss(y_train[label], y_train_pred)\n",
    "    hamming_loss_test = hamming_loss(y_test[label], y_test_pred)\n",
    "        \n",
    "    # Report model statistics\n",
    "    print(f\"Label {label}: Best C={best_params['C']}, γ={best_params['gamma']}\")\n",
    "    print(f\"Best estimator: {best_model}\")\n",
    "    print(f\"Cross-validation score: {cv_score}\\n\")"
   ]
  },
  {
   "cell_type": "code",
   "execution_count": 12,
   "metadata": {},
   "outputs": [
    {
     "name": "stdout",
     "output_type": "stream",
     "text": [
      "Label Species: Best C=7.847599703514611, γ=1.0\n",
      "SVC(C=7.847599703514611, gamma=1.0)\n",
      "Cross-validation score: 0.989475054435293\n",
      "Train exact match: 0.9990071485305798\n",
      "Train hamming loss: 0.0009928514694201747\n",
      "Test exact match: 0.9893469198703103\n",
      "Test hamming loss: 0.010653080129689671\n",
      "\n"
     ]
    }
   ],
   "source": [
    "# Report model statistics\n",
    "print(f\"Label {label}: Best C={best_params['C']}, γ={best_params['gamma']}\")\n",
    "print(svclassifier.best_estimator_)\n",
    "print(f'Cross-validation score: {cv_score}')\n",
    "print(f'Train exact match: {train_score}\\nTrain hamming loss: {hamming_loss_train}')\n",
    "print(f'Test exact match: {test_score}\\nTest hamming loss: {hamming_loss_test}\\n')\n"
   ]
  },
  {
   "cell_type": "markdown",
   "metadata": {},
   "source": [
    "From the results of the weight of the SVM penalty and width of Gaussian Kernel for each label shown above, we can see that the SVM penalty differs from each of the different labels, while the width of the Gaussian Kernel is close to one another for each label. "
   ]
  },
  {
   "cell_type": "markdown",
   "metadata": {},
   "source": [
    "### iii.\n",
    "Repeat 1(b)ii with L1-penalized SVMs. Remember to standardize the attributes. Determine the weight of the SVM penalty using 10 fold cross validation."
   ]
  },
  {
   "cell_type": "code",
   "execution_count": 13,
   "metadata": {},
   "outputs": [],
   "source": [
    "# Standardize attributes on training and testing data\n",
    "scaler = StandardScaler()\n",
    "# Fit the scaler on training data\n",
    "scaler.fit(X_train)\n",
    "X_train_stand = scaler.transform(X_train)\n",
    "X_test_stand = scaler.transform(X_test)"
   ]
  },
  {
   "cell_type": "code",
   "execution_count": 14,
   "metadata": {},
   "outputs": [],
   "source": [
    "# Define a function to train L1-penalized SVMs \n",
    "def svm_linear(C_input):\n",
    "    # Define parameter grid\n",
    "    params = {\n",
    "    'penalty': ['l1'],\n",
    "    'dual': [False],\n",
    "    'C': C_input,\n",
    "    'multi_class': ['ovr'],\n",
    "    'max_iter': [5000]\n",
    "    }\n",
    "\n",
    "    # Dictionary to store trained models\n",
    "    models = {}\n",
    "\n",
    "    # Train SVM for each label (multi-label scenario or one-vs-all)\n",
    "    for label in y_train.columns:  # Assuming y_train is a DataFrame with columns for each label\n",
    "        print(f\"Training SVM for label {label}...\")\n",
    "        \n",
    "        # Initialize GridSearchCV object\n",
    "        svclassifier = GridSearchCV(estimator=LinearSVC(penalty='l1', dual=False, max_iter=20000), param_grid=params, cv=10, n_jobs=8, scoring='accuracy')\n",
    "        \n",
    "        # Fit the model for the current label\n",
    "        svclassifier.fit(X_train_stand, y_train[label])\n",
    "        \n",
    "        # Get the best model and cross-validation score\n",
    "        best_model = svclassifier.best_estimator_\n",
    "        best_params = svclassifier.best_params_\n",
    "        cv_score = svclassifier.best_score_\n",
    "        \n",
    "        # Store the trained model in the dictionary\n",
    "        models[label] = best_model\n",
    "        \n",
    "        # Report model statistics\n",
    "        print(f\"Label {label}: Best C={best_params['C']}\")\n",
    "        print(f\"Best estimator: {best_model}\")\n",
    "        print(f\"Cross-validation score: {cv_score}\\n\")\n",
    "\n",
    "    return models  # Return dictionary of trained models"
   ]
  },
  {
   "cell_type": "markdown",
   "metadata": {},
   "source": [
    "### L1-penalized SVM - Large Parameters"
   ]
  },
  {
   "cell_type": "code",
   "execution_count": 15,
   "metadata": {},
   "outputs": [
    {
     "name": "stdout",
     "output_type": "stream",
     "text": [
      "Training SVM for label Family...\n",
      "Label Family: Best C=1\n",
      "Best estimator: LinearSVC(C=1, dual=False, max_iter=5000, penalty='l1')\n",
      "Cross-validation score: 0.9406288459717882\n",
      "\n",
      "Training SVM for label Genus...\n"
     ]
    },
    {
     "name": "stderr",
     "output_type": "stream",
     "text": [
      "/Users/kaylahoffman/miniconda3/lib/python3.9/site-packages/sklearn/svm/_base.py:1237: ConvergenceWarning: Liblinear failed to converge, increase the number of iterations.\n",
      "  warnings.warn(\n",
      "/Users/kaylahoffman/miniconda3/lib/python3.9/site-packages/sklearn/svm/_base.py:1237: ConvergenceWarning: Liblinear failed to converge, increase the number of iterations.\n",
      "  warnings.warn(\n",
      "/Users/kaylahoffman/miniconda3/lib/python3.9/site-packages/sklearn/svm/_base.py:1237: ConvergenceWarning: Liblinear failed to converge, increase the number of iterations.\n",
      "  warnings.warn(\n",
      "/Users/kaylahoffman/miniconda3/lib/python3.9/site-packages/sklearn/svm/_base.py:1237: ConvergenceWarning: Liblinear failed to converge, increase the number of iterations.\n",
      "  warnings.warn(\n",
      "/Users/kaylahoffman/miniconda3/lib/python3.9/site-packages/sklearn/svm/_base.py:1237: ConvergenceWarning: Liblinear failed to converge, increase the number of iterations.\n",
      "  warnings.warn(\n",
      "/Users/kaylahoffman/miniconda3/lib/python3.9/site-packages/sklearn/svm/_base.py:1237: ConvergenceWarning: Liblinear failed to converge, increase the number of iterations.\n",
      "  warnings.warn(\n",
      "/Users/kaylahoffman/miniconda3/lib/python3.9/site-packages/sklearn/svm/_base.py:1237: ConvergenceWarning: Liblinear failed to converge, increase the number of iterations.\n",
      "  warnings.warn(\n",
      "/Users/kaylahoffman/miniconda3/lib/python3.9/site-packages/sklearn/svm/_base.py:1237: ConvergenceWarning: Liblinear failed to converge, increase the number of iterations.\n",
      "  warnings.warn(\n"
     ]
    },
    {
     "name": "stdout",
     "output_type": "stream",
     "text": [
      "Label Genus: Best C=10\n",
      "Best estimator: LinearSVC(C=10, dual=False, max_iter=5000, penalty='l1')\n",
      "Cross-validation score: 0.9527422764997319\n",
      "\n",
      "Training SVM for label Species...\n"
     ]
    },
    {
     "name": "stderr",
     "output_type": "stream",
     "text": [
      "/Users/kaylahoffman/miniconda3/lib/python3.9/site-packages/sklearn/svm/_base.py:1237: ConvergenceWarning: Liblinear failed to converge, increase the number of iterations.\n",
      "  warnings.warn(\n",
      "/Users/kaylahoffman/miniconda3/lib/python3.9/site-packages/sklearn/svm/_base.py:1237: ConvergenceWarning: Liblinear failed to converge, increase the number of iterations.\n",
      "  warnings.warn(\n",
      "/Users/kaylahoffman/miniconda3/lib/python3.9/site-packages/sklearn/svm/_base.py:1237: ConvergenceWarning: Liblinear failed to converge, increase the number of iterations.\n",
      "  warnings.warn(\n",
      "/Users/kaylahoffman/miniconda3/lib/python3.9/site-packages/sklearn/svm/_base.py:1237: ConvergenceWarning: Liblinear failed to converge, increase the number of iterations.\n",
      "  warnings.warn(\n",
      "/Users/kaylahoffman/miniconda3/lib/python3.9/site-packages/sklearn/svm/_base.py:1237: ConvergenceWarning: Liblinear failed to converge, increase the number of iterations.\n",
      "  warnings.warn(\n",
      "/Users/kaylahoffman/miniconda3/lib/python3.9/site-packages/sklearn/svm/_base.py:1237: ConvergenceWarning: Liblinear failed to converge, increase the number of iterations.\n",
      "  warnings.warn(\n",
      "/Users/kaylahoffman/miniconda3/lib/python3.9/site-packages/sklearn/svm/_base.py:1237: ConvergenceWarning: Liblinear failed to converge, increase the number of iterations.\n",
      "  warnings.warn(\n",
      "/Users/kaylahoffman/miniconda3/lib/python3.9/site-packages/sklearn/svm/_base.py:1237: ConvergenceWarning: Liblinear failed to converge, increase the number of iterations.\n",
      "  warnings.warn(\n"
     ]
    },
    {
     "name": "stdout",
     "output_type": "stream",
     "text": [
      "Label Species: Best C=10\n",
      "Best estimator: LinearSVC(C=10, dual=False, max_iter=5000, penalty='l1')\n",
      "Cross-validation score: 0.9602847202499291\n",
      "\n"
     ]
    },
    {
     "data": {
      "text/plain": [
       "{'Family': LinearSVC(C=1, dual=False, max_iter=5000, penalty='l1'),\n",
       " 'Genus': LinearSVC(C=10, dual=False, max_iter=5000, penalty='l1'),\n",
       " 'Species': LinearSVC(C=10, dual=False, max_iter=5000, penalty='l1')}"
      ]
     },
     "execution_count": 15,
     "metadata": {},
     "output_type": "execute_result"
    }
   ],
   "source": [
    "# %%time\n",
    "# import os\n",
    "# os.environ[\"PYTHONWARNINGS\"] = \"ignore::ConvergenceWarning\"\n",
    "\n",
    "# warnings.filterwarnings(\"ignore\", category=ConvergenceWarning)\n",
    "\n",
    "\n",
    "# Train on very large parameter pairs\n",
    "svm_linear(C_large)"
   ]
  },
  {
   "cell_type": "markdown",
   "metadata": {},
   "source": [
    "### L1-penalized SVMS - Small Parameters"
   ]
  },
  {
   "cell_type": "code",
   "execution_count": 16,
   "metadata": {},
   "outputs": [
    {
     "name": "stdout",
     "output_type": "stream",
     "text": [
      "Training SVM for label Family...\n",
      "Label Family: Best C=0.1\n",
      "Best estimator: LinearSVC(C=0.1, dual=False, max_iter=5000, penalty='l1')\n",
      "Cross-validation score: 0.938247499132191\n",
      "\n",
      "Training SVM for label Genus...\n",
      "Label Genus: Best C=0.1\n",
      "Best estimator: LinearSVC(C=0.1, dual=False, max_iter=5000, penalty='l1')\n",
      "Cross-validation score: 0.9426141563318501\n",
      "\n",
      "Training SVM for label Species...\n",
      "Label Species: Best C=0.1\n",
      "Best estimator: LinearSVC(C=0.1, dual=False, max_iter=5000, penalty='l1')\n",
      "Cross-validation score: 0.9499585818422795\n",
      "\n",
      "CPU times: user 3.34 s, sys: 87.4 ms, total: 3.42 s\n",
      "Wall time: 15.4 s\n"
     ]
    },
    {
     "data": {
      "text/plain": [
       "{'Family': LinearSVC(C=0.1, dual=False, max_iter=5000, penalty='l1'),\n",
       " 'Genus': LinearSVC(C=0.1, dual=False, max_iter=5000, penalty='l1'),\n",
       " 'Species': LinearSVC(C=0.1, dual=False, max_iter=5000, penalty='l1')}"
      ]
     },
     "execution_count": 16,
     "metadata": {},
     "output_type": "execute_result"
    }
   ],
   "source": [
    "%%time\n",
    "\n",
    "import warnings\n",
    "from sklearn.exceptions import ConvergenceWarning\n",
    "\n",
    "# Suppress ConvergenceWarnings globally\n",
    "warnings.filterwarnings(\"ignore\", category=ConvergenceWarning)\n",
    "\n",
    "# Train on very small parameter pairs\n",
    "svm_linear(C_small)"
   ]
  },
  {
   "cell_type": "markdown",
   "metadata": {},
   "source": [
    "### L1-Penalized SVMS - The Final Model"
   ]
  },
  {
   "cell_type": "code",
   "execution_count": 17,
   "metadata": {},
   "outputs": [
    {
     "name": "stdout",
     "output_type": "stream",
     "text": [
      "[ 0.1         0.1274275   0.16237767  0.20691381  0.26366509  0.33598183\n",
      "  0.42813324  0.54555948  0.6951928   0.88586679  1.12883789  1.43844989\n",
      "  1.83298071  2.33572147  2.97635144  3.79269019  4.83293024  6.15848211\n",
      "  7.8475997  10.        ]\n"
     ]
    }
   ],
   "source": [
    "# Create paramter sets\n",
    "C = np.logspace(-1, 1, 20)\n",
    "print(C)"
   ]
  },
  {
   "cell_type": "code",
   "execution_count": 18,
   "metadata": {},
   "outputs": [
    {
     "name": "stdout",
     "output_type": "stream",
     "text": [
      "Training SVM for label Family...\n"
     ]
    },
    {
     "name": "stderr",
     "output_type": "stream",
     "text": [
      "/Users/kaylahoffman/miniconda3/lib/python3.9/site-packages/sklearn/svm/_base.py:1237: ConvergenceWarning: Liblinear failed to converge, increase the number of iterations.\n",
      "  warnings.warn(\n",
      "/Users/kaylahoffman/miniconda3/lib/python3.9/site-packages/sklearn/svm/_base.py:1237: ConvergenceWarning: Liblinear failed to converge, increase the number of iterations.\n",
      "  warnings.warn(\n",
      "/Users/kaylahoffman/miniconda3/lib/python3.9/site-packages/sklearn/svm/_base.py:1237: ConvergenceWarning: Liblinear failed to converge, increase the number of iterations.\n",
      "  warnings.warn(\n",
      "/Users/kaylahoffman/miniconda3/lib/python3.9/site-packages/sklearn/svm/_base.py:1237: ConvergenceWarning: Liblinear failed to converge, increase the number of iterations.\n",
      "  warnings.warn(\n",
      "/Users/kaylahoffman/miniconda3/lib/python3.9/site-packages/sklearn/svm/_base.py:1237: ConvergenceWarning: Liblinear failed to converge, increase the number of iterations.\n",
      "  warnings.warn(\n",
      "/Users/kaylahoffman/miniconda3/lib/python3.9/site-packages/sklearn/svm/_base.py:1237: ConvergenceWarning: Liblinear failed to converge, increase the number of iterations.\n",
      "  warnings.warn(\n",
      "/Users/kaylahoffman/miniconda3/lib/python3.9/site-packages/sklearn/svm/_base.py:1237: ConvergenceWarning: Liblinear failed to converge, increase the number of iterations.\n",
      "  warnings.warn(\n",
      "/Users/kaylahoffman/miniconda3/lib/python3.9/site-packages/sklearn/svm/_base.py:1237: ConvergenceWarning: Liblinear failed to converge, increase the number of iterations.\n",
      "  warnings.warn(\n",
      "/Users/kaylahoffman/miniconda3/lib/python3.9/site-packages/sklearn/svm/_base.py:1237: ConvergenceWarning: Liblinear failed to converge, increase the number of iterations.\n",
      "  warnings.warn(\n",
      "/Users/kaylahoffman/miniconda3/lib/python3.9/site-packages/sklearn/svm/_base.py:1237: ConvergenceWarning: Liblinear failed to converge, increase the number of iterations.\n",
      "  warnings.warn(\n",
      "/Users/kaylahoffman/miniconda3/lib/python3.9/site-packages/sklearn/svm/_base.py:1237: ConvergenceWarning: Liblinear failed to converge, increase the number of iterations.\n",
      "  warnings.warn(\n",
      "/Users/kaylahoffman/miniconda3/lib/python3.9/site-packages/sklearn/svm/_base.py:1237: ConvergenceWarning: Liblinear failed to converge, increase the number of iterations.\n",
      "  warnings.warn(\n",
      "/Users/kaylahoffman/miniconda3/lib/python3.9/site-packages/sklearn/svm/_base.py:1237: ConvergenceWarning: Liblinear failed to converge, increase the number of iterations.\n",
      "  warnings.warn(\n",
      "/Users/kaylahoffman/miniconda3/lib/python3.9/site-packages/sklearn/svm/_base.py:1237: ConvergenceWarning: Liblinear failed to converge, increase the number of iterations.\n",
      "  warnings.warn(\n",
      "/Users/kaylahoffman/miniconda3/lib/python3.9/site-packages/sklearn/svm/_base.py:1237: ConvergenceWarning: Liblinear failed to converge, increase the number of iterations.\n",
      "  warnings.warn(\n",
      "/Users/kaylahoffman/miniconda3/lib/python3.9/site-packages/sklearn/svm/_base.py:1237: ConvergenceWarning: Liblinear failed to converge, increase the number of iterations.\n",
      "  warnings.warn(\n",
      "/Users/kaylahoffman/miniconda3/lib/python3.9/site-packages/sklearn/svm/_base.py:1237: ConvergenceWarning: Liblinear failed to converge, increase the number of iterations.\n",
      "  warnings.warn(\n",
      "/Users/kaylahoffman/miniconda3/lib/python3.9/site-packages/sklearn/svm/_base.py:1237: ConvergenceWarning: Liblinear failed to converge, increase the number of iterations.\n",
      "  warnings.warn(\n",
      "/Users/kaylahoffman/miniconda3/lib/python3.9/site-packages/sklearn/svm/_base.py:1237: ConvergenceWarning: Liblinear failed to converge, increase the number of iterations.\n",
      "  warnings.warn(\n",
      "/Users/kaylahoffman/miniconda3/lib/python3.9/site-packages/sklearn/svm/_base.py:1237: ConvergenceWarning: Liblinear failed to converge, increase the number of iterations.\n",
      "  warnings.warn(\n",
      "/Users/kaylahoffman/miniconda3/lib/python3.9/site-packages/sklearn/svm/_base.py:1237: ConvergenceWarning: Liblinear failed to converge, increase the number of iterations.\n",
      "  warnings.warn(\n",
      "/Users/kaylahoffman/miniconda3/lib/python3.9/site-packages/sklearn/svm/_base.py:1237: ConvergenceWarning: Liblinear failed to converge, increase the number of iterations.\n",
      "  warnings.warn(\n",
      "/Users/kaylahoffman/miniconda3/lib/python3.9/site-packages/sklearn/svm/_base.py:1237: ConvergenceWarning: Liblinear failed to converge, increase the number of iterations.\n",
      "  warnings.warn(\n",
      "/Users/kaylahoffman/miniconda3/lib/python3.9/site-packages/sklearn/svm/_base.py:1237: ConvergenceWarning: Liblinear failed to converge, increase the number of iterations.\n",
      "  warnings.warn(\n",
      "/Users/kaylahoffman/miniconda3/lib/python3.9/site-packages/sklearn/svm/_base.py:1237: ConvergenceWarning: Liblinear failed to converge, increase the number of iterations.\n",
      "  warnings.warn(\n",
      "/Users/kaylahoffman/miniconda3/lib/python3.9/site-packages/sklearn/svm/_base.py:1237: ConvergenceWarning: Liblinear failed to converge, increase the number of iterations.\n",
      "  warnings.warn(\n",
      "/Users/kaylahoffman/miniconda3/lib/python3.9/site-packages/sklearn/svm/_base.py:1237: ConvergenceWarning: Liblinear failed to converge, increase the number of iterations.\n",
      "  warnings.warn(\n",
      "/Users/kaylahoffman/miniconda3/lib/python3.9/site-packages/sklearn/svm/_base.py:1237: ConvergenceWarning: Liblinear failed to converge, increase the number of iterations.\n",
      "  warnings.warn(\n",
      "/Users/kaylahoffman/miniconda3/lib/python3.9/site-packages/sklearn/svm/_base.py:1237: ConvergenceWarning: Liblinear failed to converge, increase the number of iterations.\n",
      "  warnings.warn(\n",
      "/Users/kaylahoffman/miniconda3/lib/python3.9/site-packages/sklearn/svm/_base.py:1237: ConvergenceWarning: Liblinear failed to converge, increase the number of iterations.\n",
      "  warnings.warn(\n",
      "/Users/kaylahoffman/miniconda3/lib/python3.9/site-packages/sklearn/svm/_base.py:1237: ConvergenceWarning: Liblinear failed to converge, increase the number of iterations.\n",
      "  warnings.warn(\n",
      "/Users/kaylahoffman/miniconda3/lib/python3.9/site-packages/sklearn/svm/_base.py:1237: ConvergenceWarning: Liblinear failed to converge, increase the number of iterations.\n",
      "  warnings.warn(\n",
      "/Users/kaylahoffman/miniconda3/lib/python3.9/site-packages/sklearn/svm/_base.py:1237: ConvergenceWarning: Liblinear failed to converge, increase the number of iterations.\n",
      "  warnings.warn(\n",
      "/Users/kaylahoffman/miniconda3/lib/python3.9/site-packages/sklearn/svm/_base.py:1237: ConvergenceWarning: Liblinear failed to converge, increase the number of iterations.\n",
      "  warnings.warn(\n",
      "/Users/kaylahoffman/miniconda3/lib/python3.9/site-packages/sklearn/svm/_base.py:1237: ConvergenceWarning: Liblinear failed to converge, increase the number of iterations.\n",
      "  warnings.warn(\n"
     ]
    },
    {
     "name": "stdout",
     "output_type": "stream",
     "text": [
      "Label Family: Best C=2.9763514416313175\n",
      "Best estimator: LinearSVC(C=2.9763514416313175, dual=False, max_iter=50000, penalty='l1')\n",
      "Cross-validation score: 0.9402332039508978\n",
      "\n",
      "Train exact match: 0.9416203335980937\n",
      "Train hamming loss: 0.058379666401906276\n",
      "Test exact match: 0.9263547938860583\n",
      "Test hamming loss: 0.07364520611394164\n",
      "\n",
      "Training SVM for label Genus...\n"
     ]
    },
    {
     "name": "stderr",
     "output_type": "stream",
     "text": [
      "/Users/kaylahoffman/miniconda3/lib/python3.9/site-packages/sklearn/svm/_base.py:1237: ConvergenceWarning: Liblinear failed to converge, increase the number of iterations.\n",
      "  warnings.warn(\n",
      "/Users/kaylahoffman/miniconda3/lib/python3.9/site-packages/sklearn/svm/_base.py:1237: ConvergenceWarning: Liblinear failed to converge, increase the number of iterations.\n",
      "  warnings.warn(\n",
      "/Users/kaylahoffman/miniconda3/lib/python3.9/site-packages/sklearn/svm/_base.py:1237: ConvergenceWarning: Liblinear failed to converge, increase the number of iterations.\n",
      "  warnings.warn(\n",
      "/Users/kaylahoffman/miniconda3/lib/python3.9/site-packages/sklearn/svm/_base.py:1237: ConvergenceWarning: Liblinear failed to converge, increase the number of iterations.\n",
      "  warnings.warn(\n",
      "/Users/kaylahoffman/miniconda3/lib/python3.9/site-packages/sklearn/svm/_base.py:1237: ConvergenceWarning: Liblinear failed to converge, increase the number of iterations.\n",
      "  warnings.warn(\n",
      "/Users/kaylahoffman/miniconda3/lib/python3.9/site-packages/sklearn/svm/_base.py:1237: ConvergenceWarning: Liblinear failed to converge, increase the number of iterations.\n",
      "  warnings.warn(\n",
      "/Users/kaylahoffman/miniconda3/lib/python3.9/site-packages/sklearn/svm/_base.py:1237: ConvergenceWarning: Liblinear failed to converge, increase the number of iterations.\n",
      "  warnings.warn(\n",
      "/Users/kaylahoffman/miniconda3/lib/python3.9/site-packages/sklearn/svm/_base.py:1237: ConvergenceWarning: Liblinear failed to converge, increase the number of iterations.\n",
      "  warnings.warn(\n",
      "/Users/kaylahoffman/miniconda3/lib/python3.9/site-packages/sklearn/svm/_base.py:1237: ConvergenceWarning: Liblinear failed to converge, increase the number of iterations.\n",
      "  warnings.warn(\n",
      "/Users/kaylahoffman/miniconda3/lib/python3.9/site-packages/sklearn/svm/_base.py:1237: ConvergenceWarning: Liblinear failed to converge, increase the number of iterations.\n",
      "  warnings.warn(\n",
      "/Users/kaylahoffman/miniconda3/lib/python3.9/site-packages/sklearn/svm/_base.py:1237: ConvergenceWarning: Liblinear failed to converge, increase the number of iterations.\n",
      "  warnings.warn(\n",
      "/Users/kaylahoffman/miniconda3/lib/python3.9/site-packages/sklearn/svm/_base.py:1237: ConvergenceWarning: Liblinear failed to converge, increase the number of iterations.\n",
      "  warnings.warn(\n",
      "/Users/kaylahoffman/miniconda3/lib/python3.9/site-packages/sklearn/svm/_base.py:1237: ConvergenceWarning: Liblinear failed to converge, increase the number of iterations.\n",
      "  warnings.warn(\n",
      "/Users/kaylahoffman/miniconda3/lib/python3.9/site-packages/sklearn/svm/_base.py:1237: ConvergenceWarning: Liblinear failed to converge, increase the number of iterations.\n",
      "  warnings.warn(\n",
      "/Users/kaylahoffman/miniconda3/lib/python3.9/site-packages/sklearn/svm/_base.py:1237: ConvergenceWarning: Liblinear failed to converge, increase the number of iterations.\n",
      "  warnings.warn(\n",
      "/Users/kaylahoffman/miniconda3/lib/python3.9/site-packages/sklearn/svm/_base.py:1237: ConvergenceWarning: Liblinear failed to converge, increase the number of iterations.\n",
      "  warnings.warn(\n",
      "/Users/kaylahoffman/miniconda3/lib/python3.9/site-packages/sklearn/svm/_base.py:1237: ConvergenceWarning: Liblinear failed to converge, increase the number of iterations.\n",
      "  warnings.warn(\n",
      "/Users/kaylahoffman/miniconda3/lib/python3.9/site-packages/sklearn/svm/_base.py:1237: ConvergenceWarning: Liblinear failed to converge, increase the number of iterations.\n",
      "  warnings.warn(\n",
      "/Users/kaylahoffman/miniconda3/lib/python3.9/site-packages/sklearn/svm/_base.py:1237: ConvergenceWarning: Liblinear failed to converge, increase the number of iterations.\n",
      "  warnings.warn(\n",
      "/Users/kaylahoffman/miniconda3/lib/python3.9/site-packages/sklearn/svm/_base.py:1237: ConvergenceWarning: Liblinear failed to converge, increase the number of iterations.\n",
      "  warnings.warn(\n",
      "/Users/kaylahoffman/miniconda3/lib/python3.9/site-packages/sklearn/svm/_base.py:1237: ConvergenceWarning: Liblinear failed to converge, increase the number of iterations.\n",
      "  warnings.warn(\n",
      "/Users/kaylahoffman/miniconda3/lib/python3.9/site-packages/sklearn/svm/_base.py:1237: ConvergenceWarning: Liblinear failed to converge, increase the number of iterations.\n",
      "  warnings.warn(\n",
      "/Users/kaylahoffman/miniconda3/lib/python3.9/site-packages/sklearn/svm/_base.py:1237: ConvergenceWarning: Liblinear failed to converge, increase the number of iterations.\n",
      "  warnings.warn(\n",
      "/Users/kaylahoffman/miniconda3/lib/python3.9/site-packages/sklearn/svm/_base.py:1237: ConvergenceWarning: Liblinear failed to converge, increase the number of iterations.\n",
      "  warnings.warn(\n",
      "/Users/kaylahoffman/miniconda3/lib/python3.9/site-packages/sklearn/svm/_base.py:1237: ConvergenceWarning: Liblinear failed to converge, increase the number of iterations.\n",
      "  warnings.warn(\n",
      "/Users/kaylahoffman/miniconda3/lib/python3.9/site-packages/sklearn/svm/_base.py:1237: ConvergenceWarning: Liblinear failed to converge, increase the number of iterations.\n",
      "  warnings.warn(\n",
      "/Users/kaylahoffman/miniconda3/lib/python3.9/site-packages/sklearn/svm/_base.py:1237: ConvergenceWarning: Liblinear failed to converge, increase the number of iterations.\n",
      "  warnings.warn(\n",
      "/Users/kaylahoffman/miniconda3/lib/python3.9/site-packages/sklearn/svm/_base.py:1237: ConvergenceWarning: Liblinear failed to converge, increase the number of iterations.\n",
      "  warnings.warn(\n",
      "/Users/kaylahoffman/miniconda3/lib/python3.9/site-packages/sklearn/svm/_base.py:1237: ConvergenceWarning: Liblinear failed to converge, increase the number of iterations.\n",
      "  warnings.warn(\n",
      "/Users/kaylahoffman/miniconda3/lib/python3.9/site-packages/sklearn/svm/_base.py:1237: ConvergenceWarning: Liblinear failed to converge, increase the number of iterations.\n",
      "  warnings.warn(\n",
      "/Users/kaylahoffman/miniconda3/lib/python3.9/site-packages/sklearn/svm/_base.py:1237: ConvergenceWarning: Liblinear failed to converge, increase the number of iterations.\n",
      "  warnings.warn(\n",
      "/Users/kaylahoffman/miniconda3/lib/python3.9/site-packages/sklearn/svm/_base.py:1237: ConvergenceWarning: Liblinear failed to converge, increase the number of iterations.\n",
      "  warnings.warn(\n",
      "/Users/kaylahoffman/miniconda3/lib/python3.9/site-packages/sklearn/svm/_base.py:1237: ConvergenceWarning: Liblinear failed to converge, increase the number of iterations.\n",
      "  warnings.warn(\n",
      "/Users/kaylahoffman/miniconda3/lib/python3.9/site-packages/sklearn/svm/_base.py:1237: ConvergenceWarning: Liblinear failed to converge, increase the number of iterations.\n",
      "  warnings.warn(\n",
      "/Users/kaylahoffman/miniconda3/lib/python3.9/site-packages/sklearn/svm/_base.py:1237: ConvergenceWarning: Liblinear failed to converge, increase the number of iterations.\n",
      "  warnings.warn(\n",
      "/Users/kaylahoffman/miniconda3/lib/python3.9/site-packages/sklearn/svm/_base.py:1237: ConvergenceWarning: Liblinear failed to converge, increase the number of iterations.\n",
      "  warnings.warn(\n",
      "/Users/kaylahoffman/miniconda3/lib/python3.9/site-packages/sklearn/svm/_base.py:1237: ConvergenceWarning: Liblinear failed to converge, increase the number of iterations.\n",
      "  warnings.warn(\n",
      "/Users/kaylahoffman/miniconda3/lib/python3.9/site-packages/sklearn/svm/_base.py:1237: ConvergenceWarning: Liblinear failed to converge, increase the number of iterations.\n",
      "  warnings.warn(\n",
      "/Users/kaylahoffman/miniconda3/lib/python3.9/site-packages/sklearn/svm/_base.py:1237: ConvergenceWarning: Liblinear failed to converge, increase the number of iterations.\n",
      "  warnings.warn(\n",
      "/Users/kaylahoffman/miniconda3/lib/python3.9/site-packages/sklearn/svm/_base.py:1237: ConvergenceWarning: Liblinear failed to converge, increase the number of iterations.\n",
      "  warnings.warn(\n",
      "/Users/kaylahoffman/miniconda3/lib/python3.9/site-packages/sklearn/svm/_base.py:1237: ConvergenceWarning: Liblinear failed to converge, increase the number of iterations.\n",
      "  warnings.warn(\n",
      "/Users/kaylahoffman/miniconda3/lib/python3.9/site-packages/sklearn/svm/_base.py:1237: ConvergenceWarning: Liblinear failed to converge, increase the number of iterations.\n",
      "  warnings.warn(\n",
      "/Users/kaylahoffman/miniconda3/lib/python3.9/site-packages/sklearn/svm/_base.py:1237: ConvergenceWarning: Liblinear failed to converge, increase the number of iterations.\n",
      "  warnings.warn(\n",
      "/Users/kaylahoffman/miniconda3/lib/python3.9/site-packages/sklearn/svm/_base.py:1237: ConvergenceWarning: Liblinear failed to converge, increase the number of iterations.\n",
      "  warnings.warn(\n",
      "/Users/kaylahoffman/miniconda3/lib/python3.9/site-packages/sklearn/svm/_base.py:1237: ConvergenceWarning: Liblinear failed to converge, increase the number of iterations.\n",
      "  warnings.warn(\n",
      "/Users/kaylahoffman/miniconda3/lib/python3.9/site-packages/sklearn/svm/_base.py:1237: ConvergenceWarning: Liblinear failed to converge, increase the number of iterations.\n",
      "  warnings.warn(\n",
      "/Users/kaylahoffman/miniconda3/lib/python3.9/site-packages/sklearn/svm/_base.py:1237: ConvergenceWarning: Liblinear failed to converge, increase the number of iterations.\n",
      "  warnings.warn(\n"
     ]
    },
    {
     "name": "stdout",
     "output_type": "stream",
     "text": [
      "Label Genus: Best C=7.847599703514611\n",
      "Best estimator: LinearSVC(C=7.847599703514611, dual=False, max_iter=50000, penalty='l1')\n",
      "Cross-validation score: 0.9513506264003281\n",
      "\n",
      "Train exact match: 0.954328832406672\n",
      "Train hamming loss: 0.04567116759332804\n",
      "Test exact match: 0.9416396479851783\n",
      "Test hamming loss: 0.058360352014821676\n",
      "\n",
      "Training SVM for label Species...\n"
     ]
    },
    {
     "name": "stderr",
     "output_type": "stream",
     "text": [
      "/Users/kaylahoffman/miniconda3/lib/python3.9/site-packages/sklearn/svm/_base.py:1237: ConvergenceWarning: Liblinear failed to converge, increase the number of iterations.\n",
      "  warnings.warn(\n",
      "/Users/kaylahoffman/miniconda3/lib/python3.9/site-packages/sklearn/svm/_base.py:1237: ConvergenceWarning: Liblinear failed to converge, increase the number of iterations.\n",
      "  warnings.warn(\n",
      "/Users/kaylahoffman/miniconda3/lib/python3.9/site-packages/sklearn/svm/_base.py:1237: ConvergenceWarning: Liblinear failed to converge, increase the number of iterations.\n",
      "  warnings.warn(\n",
      "/Users/kaylahoffman/miniconda3/lib/python3.9/site-packages/sklearn/svm/_base.py:1237: ConvergenceWarning: Liblinear failed to converge, increase the number of iterations.\n",
      "  warnings.warn(\n",
      "/Users/kaylahoffman/miniconda3/lib/python3.9/site-packages/sklearn/svm/_base.py:1237: ConvergenceWarning: Liblinear failed to converge, increase the number of iterations.\n",
      "  warnings.warn(\n",
      "/Users/kaylahoffman/miniconda3/lib/python3.9/site-packages/sklearn/svm/_base.py:1237: ConvergenceWarning: Liblinear failed to converge, increase the number of iterations.\n",
      "  warnings.warn(\n",
      "/Users/kaylahoffman/miniconda3/lib/python3.9/site-packages/sklearn/svm/_base.py:1237: ConvergenceWarning: Liblinear failed to converge, increase the number of iterations.\n",
      "  warnings.warn(\n",
      "/Users/kaylahoffman/miniconda3/lib/python3.9/site-packages/sklearn/svm/_base.py:1237: ConvergenceWarning: Liblinear failed to converge, increase the number of iterations.\n",
      "  warnings.warn(\n",
      "/Users/kaylahoffman/miniconda3/lib/python3.9/site-packages/sklearn/svm/_base.py:1237: ConvergenceWarning: Liblinear failed to converge, increase the number of iterations.\n",
      "  warnings.warn(\n",
      "/Users/kaylahoffman/miniconda3/lib/python3.9/site-packages/sklearn/svm/_base.py:1237: ConvergenceWarning: Liblinear failed to converge, increase the number of iterations.\n",
      "  warnings.warn(\n",
      "/Users/kaylahoffman/miniconda3/lib/python3.9/site-packages/sklearn/svm/_base.py:1237: ConvergenceWarning: Liblinear failed to converge, increase the number of iterations.\n",
      "  warnings.warn(\n",
      "/Users/kaylahoffman/miniconda3/lib/python3.9/site-packages/sklearn/svm/_base.py:1237: ConvergenceWarning: Liblinear failed to converge, increase the number of iterations.\n",
      "  warnings.warn(\n",
      "/Users/kaylahoffman/miniconda3/lib/python3.9/site-packages/sklearn/svm/_base.py:1237: ConvergenceWarning: Liblinear failed to converge, increase the number of iterations.\n",
      "  warnings.warn(\n",
      "/Users/kaylahoffman/miniconda3/lib/python3.9/site-packages/sklearn/svm/_base.py:1237: ConvergenceWarning: Liblinear failed to converge, increase the number of iterations.\n",
      "  warnings.warn(\n",
      "/Users/kaylahoffman/miniconda3/lib/python3.9/site-packages/sklearn/svm/_base.py:1237: ConvergenceWarning: Liblinear failed to converge, increase the number of iterations.\n",
      "  warnings.warn(\n",
      "/Users/kaylahoffman/miniconda3/lib/python3.9/site-packages/sklearn/svm/_base.py:1237: ConvergenceWarning: Liblinear failed to converge, increase the number of iterations.\n",
      "  warnings.warn(\n",
      "/Users/kaylahoffman/miniconda3/lib/python3.9/site-packages/sklearn/svm/_base.py:1237: ConvergenceWarning: Liblinear failed to converge, increase the number of iterations.\n",
      "  warnings.warn(\n",
      "/Users/kaylahoffman/miniconda3/lib/python3.9/site-packages/sklearn/svm/_base.py:1237: ConvergenceWarning: Liblinear failed to converge, increase the number of iterations.\n",
      "  warnings.warn(\n",
      "/Users/kaylahoffman/miniconda3/lib/python3.9/site-packages/sklearn/svm/_base.py:1237: ConvergenceWarning: Liblinear failed to converge, increase the number of iterations.\n",
      "  warnings.warn(\n",
      "/Users/kaylahoffman/miniconda3/lib/python3.9/site-packages/sklearn/svm/_base.py:1237: ConvergenceWarning: Liblinear failed to converge, increase the number of iterations.\n",
      "  warnings.warn(\n",
      "/Users/kaylahoffman/miniconda3/lib/python3.9/site-packages/sklearn/svm/_base.py:1237: ConvergenceWarning: Liblinear failed to converge, increase the number of iterations.\n",
      "  warnings.warn(\n",
      "/Users/kaylahoffman/miniconda3/lib/python3.9/site-packages/sklearn/svm/_base.py:1237: ConvergenceWarning: Liblinear failed to converge, increase the number of iterations.\n",
      "  warnings.warn(\n",
      "/Users/kaylahoffman/miniconda3/lib/python3.9/site-packages/sklearn/svm/_base.py:1237: ConvergenceWarning: Liblinear failed to converge, increase the number of iterations.\n",
      "  warnings.warn(\n",
      "/Users/kaylahoffman/miniconda3/lib/python3.9/site-packages/sklearn/svm/_base.py:1237: ConvergenceWarning: Liblinear failed to converge, increase the number of iterations.\n",
      "  warnings.warn(\n",
      "/Users/kaylahoffman/miniconda3/lib/python3.9/site-packages/sklearn/svm/_base.py:1237: ConvergenceWarning: Liblinear failed to converge, increase the number of iterations.\n",
      "  warnings.warn(\n",
      "/Users/kaylahoffman/miniconda3/lib/python3.9/site-packages/sklearn/svm/_base.py:1237: ConvergenceWarning: Liblinear failed to converge, increase the number of iterations.\n",
      "  warnings.warn(\n",
      "/Users/kaylahoffman/miniconda3/lib/python3.9/site-packages/sklearn/svm/_base.py:1237: ConvergenceWarning: Liblinear failed to converge, increase the number of iterations.\n",
      "  warnings.warn(\n",
      "/Users/kaylahoffman/miniconda3/lib/python3.9/site-packages/sklearn/svm/_base.py:1237: ConvergenceWarning: Liblinear failed to converge, increase the number of iterations.\n",
      "  warnings.warn(\n",
      "/Users/kaylahoffman/miniconda3/lib/python3.9/site-packages/sklearn/svm/_base.py:1237: ConvergenceWarning: Liblinear failed to converge, increase the number of iterations.\n",
      "  warnings.warn(\n",
      "/Users/kaylahoffman/miniconda3/lib/python3.9/site-packages/sklearn/svm/_base.py:1237: ConvergenceWarning: Liblinear failed to converge, increase the number of iterations.\n",
      "  warnings.warn(\n",
      "/Users/kaylahoffman/miniconda3/lib/python3.9/site-packages/sklearn/svm/_base.py:1237: ConvergenceWarning: Liblinear failed to converge, increase the number of iterations.\n",
      "  warnings.warn(\n",
      "/Users/kaylahoffman/miniconda3/lib/python3.9/site-packages/sklearn/svm/_base.py:1237: ConvergenceWarning: Liblinear failed to converge, increase the number of iterations.\n",
      "  warnings.warn(\n",
      "/Users/kaylahoffman/miniconda3/lib/python3.9/site-packages/sklearn/svm/_base.py:1237: ConvergenceWarning: Liblinear failed to converge, increase the number of iterations.\n",
      "  warnings.warn(\n",
      "/Users/kaylahoffman/miniconda3/lib/python3.9/site-packages/sklearn/svm/_base.py:1237: ConvergenceWarning: Liblinear failed to converge, increase the number of iterations.\n",
      "  warnings.warn(\n",
      "/Users/kaylahoffman/miniconda3/lib/python3.9/site-packages/sklearn/svm/_base.py:1237: ConvergenceWarning: Liblinear failed to converge, increase the number of iterations.\n",
      "  warnings.warn(\n",
      "/Users/kaylahoffman/miniconda3/lib/python3.9/site-packages/sklearn/svm/_base.py:1237: ConvergenceWarning: Liblinear failed to converge, increase the number of iterations.\n",
      "  warnings.warn(\n",
      "/Users/kaylahoffman/miniconda3/lib/python3.9/site-packages/sklearn/svm/_base.py:1237: ConvergenceWarning: Liblinear failed to converge, increase the number of iterations.\n",
      "  warnings.warn(\n",
      "/Users/kaylahoffman/miniconda3/lib/python3.9/site-packages/sklearn/svm/_base.py:1237: ConvergenceWarning: Liblinear failed to converge, increase the number of iterations.\n",
      "  warnings.warn(\n",
      "/Users/kaylahoffman/miniconda3/lib/python3.9/site-packages/sklearn/svm/_base.py:1237: ConvergenceWarning: Liblinear failed to converge, increase the number of iterations.\n",
      "  warnings.warn(\n",
      "/Users/kaylahoffman/miniconda3/lib/python3.9/site-packages/sklearn/svm/_base.py:1237: ConvergenceWarning: Liblinear failed to converge, increase the number of iterations.\n",
      "  warnings.warn(\n",
      "/Users/kaylahoffman/miniconda3/lib/python3.9/site-packages/sklearn/svm/_base.py:1237: ConvergenceWarning: Liblinear failed to converge, increase the number of iterations.\n",
      "  warnings.warn(\n",
      "/Users/kaylahoffman/miniconda3/lib/python3.9/site-packages/sklearn/svm/_base.py:1237: ConvergenceWarning: Liblinear failed to converge, increase the number of iterations.\n",
      "  warnings.warn(\n",
      "/Users/kaylahoffman/miniconda3/lib/python3.9/site-packages/sklearn/svm/_base.py:1237: ConvergenceWarning: Liblinear failed to converge, increase the number of iterations.\n",
      "  warnings.warn(\n",
      "/Users/kaylahoffman/miniconda3/lib/python3.9/site-packages/sklearn/svm/_base.py:1237: ConvergenceWarning: Liblinear failed to converge, increase the number of iterations.\n",
      "  warnings.warn(\n",
      "/Users/kaylahoffman/miniconda3/lib/python3.9/site-packages/sklearn/svm/_base.py:1237: ConvergenceWarning: Liblinear failed to converge, increase the number of iterations.\n",
      "  warnings.warn(\n",
      "/Users/kaylahoffman/miniconda3/lib/python3.9/site-packages/sklearn/svm/_base.py:1237: ConvergenceWarning: Liblinear failed to converge, increase the number of iterations.\n",
      "  warnings.warn(\n",
      "/Users/kaylahoffman/miniconda3/lib/python3.9/site-packages/sklearn/svm/_base.py:1237: ConvergenceWarning: Liblinear failed to converge, increase the number of iterations.\n",
      "  warnings.warn(\n"
     ]
    },
    {
     "name": "stdout",
     "output_type": "stream",
     "text": [
      "Label Species: Best C=10.0\n",
      "Best estimator: LinearSVC(C=10.0, dual=False, max_iter=50000, penalty='l1')\n",
      "Cross-validation score: 0.959689087696046\n",
      "\n",
      "Train exact match: 0.9634630659253376\n",
      "Train hamming loss: 0.03653693407466243\n",
      "Test exact match: 0.9606299212598425\n",
      "Test hamming loss: 0.03937007874015748\n",
      "\n"
     ]
    }
   ],
   "source": [
    "# Train SVM models using GridSearchCV for multi-label or one-vs-all classification --> this case is multi label \n",
    "\n",
    "\n",
    "    ## Parameters: \n",
    "    # X_train (array-like): Feature matrix \n",
    "    # y_train (DataFrame or array-like): Target labels (multi column for multi label or binary for one vs all)\n",
    "    # C_input (list): List of penality parameter values to search \n",
    "    # Gamma_input (list): List of kernel width values to search \n",
    "\n",
    "\n",
    "# Define parameter grid\n",
    "params = {\n",
    "    'penalty': ['l1'],\n",
    "    'dual': [False],\n",
    "    'C': C,\n",
    "    'multi_class': ['ovr'],\n",
    "    'max_iter': [50000]\n",
    "}\n",
    "\n",
    "# Train SVM for each label (multi-label scenario or one-vs-all)\n",
    "for label in y_train.columns:  # Assuming y_train is a DataFrame with columns for each label\n",
    "    print(f\"Training SVM for label {label}...\")\n",
    "        \n",
    "    # Initialize GridSearchCV object\n",
    "    svclassifier = GridSearchCV(estimator=LinearSVC(), param_grid=params, cv=10, n_jobs=8, scoring='accuracy')\n",
    "        \n",
    "    # Fit the model for the current label\n",
    "    svclassifier.fit(X_train, y_train[label])\n",
    "        \n",
    "    # Get the best model and cross-validation score\n",
    "    best_model = svclassifier.best_estimator_\n",
    "    best_params = svclassifier.best_params_\n",
    "    cv_score = svclassifier.best_score_\n",
    "        \n",
    "\n",
    "    # Prediction on training and testing set\n",
    "    y_train_pred = svclassifier.predict(X_train)\n",
    "    y_test_pred = svclassifier.predict(X_test)\n",
    "    \n",
    "    # Obtain exact match score\n",
    "    train_score = accuracy_score(y_train[label], y_train_pred)\n",
    "    test_score = accuracy_score(y_test[label], y_test_pred)\n",
    "    \n",
    "    # Obtain hamming loss\n",
    "    hamming_loss_train = hamming_loss(y_train[label], y_train_pred)\n",
    "    hamming_loss_test = hamming_loss(y_test[label], y_test_pred)\n",
    "        \n",
    "    # Report model statistics\n",
    "    print(f\"Label {label}: Best C={best_params['C']}\")\n",
    "    print(f\"Best estimator: {best_model}\")\n",
    "    print(f\"Cross-validation score: {cv_score}\\n\")\n",
    "    print(f'Train exact match: {train_score}\\nTrain hamming loss: {hamming_loss_train}')\n",
    "    print(f'Test exact match: {test_score}\\nTest hamming loss: {hamming_loss_test}\\n')"
   ]
  },
  {
   "cell_type": "markdown",
   "metadata": {},
   "source": [
    "From what we've observed above, the weight is different from each other given different labels. In addition, the SVM performs better than the L1-penalized SVM. "
   ]
  },
  {
   "cell_type": "markdown",
   "metadata": {},
   "source": [
    "### iv.\n",
    "Repeat 1(b)iii by using SMOTE or any other method you know to remedy class imbalance. Report your conclusions about the classifiers you trained."
   ]
  },
  {
   "cell_type": "code",
   "execution_count": 19,
   "metadata": {},
   "outputs": [
    {
     "data": {
      "text/plain": [
       "Leptodactylidae    4420\n",
       "Hylidae            2165\n",
       "Dendrobatidae       542\n",
       "Bufonidae            68\n",
       "Name: Family, dtype: int64"
      ]
     },
     "metadata": {},
     "output_type": "display_data"
    },
    {
     "data": {
      "text/plain": [
       "Adenomera        4150\n",
       "Hypsiboas        1593\n",
       "Ameerega          542\n",
       "Dendropsophus     310\n",
       "Leptodactylus     270\n",
       "Scinax            148\n",
       "Osteocephalus     114\n",
       "Rhinella           68\n",
       "Name: Genus, dtype: int64"
      ]
     },
     "metadata": {},
     "output_type": "display_data"
    },
    {
     "data": {
      "text/plain": [
       "AdenomeraHylaedactylus    3478\n",
       "HypsiboasCordobae         1121\n",
       "AdenomeraAndre             672\n",
       "Ameeregatrivittata         542\n",
       "HypsiboasCinerascens       472\n",
       "HylaMinuta                 310\n",
       "LeptodactylusFuscus        270\n",
       "ScinaxRuber                148\n",
       "OsteocephalusOophagus      114\n",
       "Rhinellagranulosa           68\n",
       "Name: Species, dtype: int64"
      ]
     },
     "metadata": {},
     "output_type": "display_data"
    }
   ],
   "source": [
    "# Check the class distribution for each label \n",
    "for label in y_train.columns:\n",
    "    display(AnuranCalls[label].value_counts())"
   ]
  },
  {
   "cell_type": "code",
   "execution_count": 20,
   "metadata": {},
   "outputs": [
    {
     "data": {
      "image/png": "[encoded data removed]",
      "text/plain": [
       "<Figure size 800x600 with 1 Axes>"
      ]
     },
     "metadata": {},
     "output_type": "display_data"
    },
    {
     "data": {
      "image/png": "[encoded data removed]",
      "text/plain": [
       "<Figure size 800x600 with 1 Axes>"
      ]
     },
     "metadata": {},
     "output_type": "display_data"
    },
    {
     "data": {
      "image/png": "[encoded data removed]",
      "text/plain": [
       "<Figure size 800x600 with 1 Axes>"
      ]
     },
     "metadata": {},
     "output_type": "display_data"
    }
   ],
   "source": [
    "# Plot class distribution in each label\n",
    "for label in y_train.columns:\n",
    "    # Get class counts\n",
    "    class_counts = pd.value_counts(AnuranCalls[label])\n",
    "    \n",
    "    # Create the plot\n",
    "    plt.figure(figsize=(8, 6))  # Adjust figure size for better readability\n",
    "    class_counts.plot.bar(color='skyblue', edgecolor='black', rot=45)  # Improved styling\n",
    "    \n",
    "    # Add title and labels\n",
    "    plt.title(f\"Class Distribution: {label}\", fontsize=14, fontweight='bold')\n",
    "    plt.xlabel(\"Classes\", fontsize=12)\n",
    "    plt.ylabel(\"Frequency\", fontsize=12)\n",
    "    \n",
    "    # Add grid for better readability\n",
    "    plt.grid(axis='y', linestyle='--', alpha=0.7)\n",
    "    \n",
    "    # Display the plot\n",
    "    plt.tight_layout()  # Adjust layout to prevent overlapping elements\n",
    "    plt.show()"
   ]
  },
  {
   "cell_type": "markdown",
   "metadata": {},
   "source": [
    "### L1-Penalized SVMs with SMOTE - Large Parameters"
   ]
  },
  {
   "cell_type": "code",
   "execution_count": 21,
   "metadata": {},
   "outputs": [
    {
     "name": "stdout",
     "output_type": "stream",
     "text": [
      "Training SVM for label Family...\n"
     ]
    },
    {
     "name": "stderr",
     "output_type": "stream",
     "text": [
      "/Users/kaylahoffman/miniconda3/lib/python3.9/site-packages/sklearn/svm/_base.py:1237: ConvergenceWarning: Liblinear failed to converge, increase the number of iterations.\n",
      "  warnings.warn(\n",
      "/Users/kaylahoffman/miniconda3/lib/python3.9/site-packages/sklearn/svm/_base.py:1237: ConvergenceWarning: Liblinear failed to converge, increase the number of iterations.\n",
      "  warnings.warn(\n",
      "/Users/kaylahoffman/miniconda3/lib/python3.9/site-packages/sklearn/svm/_base.py:1237: ConvergenceWarning: Liblinear failed to converge, increase the number of iterations.\n",
      "  warnings.warn(\n",
      "/Users/kaylahoffman/miniconda3/lib/python3.9/site-packages/sklearn/svm/_base.py:1237: ConvergenceWarning: Liblinear failed to converge, increase the number of iterations.\n",
      "  warnings.warn(\n",
      "/Users/kaylahoffman/miniconda3/lib/python3.9/site-packages/sklearn/svm/_base.py:1237: ConvergenceWarning: Liblinear failed to converge, increase the number of iterations.\n",
      "  warnings.warn(\n",
      "/Users/kaylahoffman/miniconda3/lib/python3.9/site-packages/sklearn/svm/_base.py:1237: ConvergenceWarning: Liblinear failed to converge, increase the number of iterations.\n",
      "  warnings.warn(\n",
      "/Users/kaylahoffman/miniconda3/lib/python3.9/site-packages/sklearn/svm/_base.py:1237: ConvergenceWarning: Liblinear failed to converge, increase the number of iterations.\n",
      "  warnings.warn(\n",
      "/Users/kaylahoffman/miniconda3/lib/python3.9/site-packages/sklearn/svm/_base.py:1237: ConvergenceWarning: Liblinear failed to converge, increase the number of iterations.\n",
      "  warnings.warn(\n",
      "/Users/kaylahoffman/miniconda3/lib/python3.9/site-packages/sklearn/svm/_base.py:1237: ConvergenceWarning: Liblinear failed to converge, increase the number of iterations.\n",
      "  warnings.warn(\n",
      "/Users/kaylahoffman/miniconda3/lib/python3.9/site-packages/sklearn/svm/_base.py:1237: ConvergenceWarning: Liblinear failed to converge, increase the number of iterations.\n",
      "  warnings.warn(\n",
      "/Users/kaylahoffman/miniconda3/lib/python3.9/site-packages/sklearn/svm/_base.py:1237: ConvergenceWarning: Liblinear failed to converge, increase the number of iterations.\n",
      "  warnings.warn(\n",
      "/Users/kaylahoffman/miniconda3/lib/python3.9/site-packages/sklearn/svm/_base.py:1237: ConvergenceWarning: Liblinear failed to converge, increase the number of iterations.\n",
      "  warnings.warn(\n",
      "/Users/kaylahoffman/miniconda3/lib/python3.9/site-packages/sklearn/svm/_base.py:1237: ConvergenceWarning: Liblinear failed to converge, increase the number of iterations.\n",
      "  warnings.warn(\n",
      "/Users/kaylahoffman/miniconda3/lib/python3.9/site-packages/sklearn/svm/_base.py:1237: ConvergenceWarning: Liblinear failed to converge, increase the number of iterations.\n",
      "  warnings.warn(\n",
      "/Users/kaylahoffman/miniconda3/lib/python3.9/site-packages/sklearn/svm/_base.py:1237: ConvergenceWarning: Liblinear failed to converge, increase the number of iterations.\n",
      "  warnings.warn(\n",
      "/Users/kaylahoffman/miniconda3/lib/python3.9/site-packages/sklearn/svm/_base.py:1237: ConvergenceWarning: Liblinear failed to converge, increase the number of iterations.\n",
      "  warnings.warn(\n",
      "/Users/kaylahoffman/miniconda3/lib/python3.9/site-packages/sklearn/svm/_base.py:1237: ConvergenceWarning: Liblinear failed to converge, increase the number of iterations.\n",
      "  warnings.warn(\n",
      "/Users/kaylahoffman/miniconda3/lib/python3.9/site-packages/sklearn/svm/_base.py:1237: ConvergenceWarning: Liblinear failed to converge, increase the number of iterations.\n",
      "  warnings.warn(\n",
      "/Users/kaylahoffman/miniconda3/lib/python3.9/site-packages/sklearn/svm/_base.py:1237: ConvergenceWarning: Liblinear failed to converge, increase the number of iterations.\n",
      "  warnings.warn(\n",
      "/Users/kaylahoffman/miniconda3/lib/python3.9/site-packages/sklearn/svm/_base.py:1237: ConvergenceWarning: Liblinear failed to converge, increase the number of iterations.\n",
      "  warnings.warn(\n",
      "/Users/kaylahoffman/miniconda3/lib/python3.9/site-packages/sklearn/svm/_base.py:1237: ConvergenceWarning: Liblinear failed to converge, increase the number of iterations.\n",
      "  warnings.warn(\n",
      "/Users/kaylahoffman/miniconda3/lib/python3.9/site-packages/sklearn/svm/_base.py:1237: ConvergenceWarning: Liblinear failed to converge, increase the number of iterations.\n",
      "  warnings.warn(\n",
      "/Users/kaylahoffman/miniconda3/lib/python3.9/site-packages/sklearn/svm/_base.py:1237: ConvergenceWarning: Liblinear failed to converge, increase the number of iterations.\n",
      "  warnings.warn(\n",
      "/Users/kaylahoffman/miniconda3/lib/python3.9/site-packages/sklearn/svm/_base.py:1237: ConvergenceWarning: Liblinear failed to converge, increase the number of iterations.\n",
      "  warnings.warn(\n",
      "/Users/kaylahoffman/miniconda3/lib/python3.9/site-packages/sklearn/svm/_base.py:1237: ConvergenceWarning: Liblinear failed to converge, increase the number of iterations.\n",
      "  warnings.warn(\n",
      "/Users/kaylahoffman/miniconda3/lib/python3.9/site-packages/sklearn/svm/_base.py:1237: ConvergenceWarning: Liblinear failed to converge, increase the number of iterations.\n",
      "  warnings.warn(\n",
      "/Users/kaylahoffman/miniconda3/lib/python3.9/site-packages/sklearn/svm/_base.py:1237: ConvergenceWarning: Liblinear failed to converge, increase the number of iterations.\n",
      "  warnings.warn(\n",
      "/Users/kaylahoffman/miniconda3/lib/python3.9/site-packages/sklearn/svm/_base.py:1237: ConvergenceWarning: Liblinear failed to converge, increase the number of iterations.\n",
      "  warnings.warn(\n",
      "/Users/kaylahoffman/miniconda3/lib/python3.9/site-packages/sklearn/svm/_base.py:1237: ConvergenceWarning: Liblinear failed to converge, increase the number of iterations.\n",
      "  warnings.warn(\n",
      "/Users/kaylahoffman/miniconda3/lib/python3.9/site-packages/sklearn/svm/_base.py:1237: ConvergenceWarning: Liblinear failed to converge, increase the number of iterations.\n",
      "  warnings.warn(\n",
      "/Users/kaylahoffman/miniconda3/lib/python3.9/site-packages/sklearn/svm/_base.py:1237: ConvergenceWarning: Liblinear failed to converge, increase the number of iterations.\n",
      "  warnings.warn(\n",
      "/Users/kaylahoffman/miniconda3/lib/python3.9/site-packages/sklearn/svm/_base.py:1237: ConvergenceWarning: Liblinear failed to converge, increase the number of iterations.\n",
      "  warnings.warn(\n",
      "/Users/kaylahoffman/miniconda3/lib/python3.9/site-packages/sklearn/svm/_base.py:1237: ConvergenceWarning: Liblinear failed to converge, increase the number of iterations.\n",
      "  warnings.warn(\n",
      "/Users/kaylahoffman/miniconda3/lib/python3.9/site-packages/sklearn/svm/_base.py:1237: ConvergenceWarning: Liblinear failed to converge, increase the number of iterations.\n",
      "  warnings.warn(\n",
      "/Users/kaylahoffman/miniconda3/lib/python3.9/site-packages/sklearn/svm/_base.py:1237: ConvergenceWarning: Liblinear failed to converge, increase the number of iterations.\n",
      "  warnings.warn(\n",
      "/Users/kaylahoffman/miniconda3/lib/python3.9/site-packages/sklearn/svm/_base.py:1237: ConvergenceWarning: Liblinear failed to converge, increase the number of iterations.\n",
      "  warnings.warn(\n",
      "/Users/kaylahoffman/miniconda3/lib/python3.9/site-packages/sklearn/svm/_base.py:1237: ConvergenceWarning: Liblinear failed to converge, increase the number of iterations.\n",
      "  warnings.warn(\n",
      "/Users/kaylahoffman/miniconda3/lib/python3.9/site-packages/sklearn/svm/_base.py:1237: ConvergenceWarning: Liblinear failed to converge, increase the number of iterations.\n",
      "  warnings.warn(\n",
      "/Users/kaylahoffman/miniconda3/lib/python3.9/site-packages/sklearn/svm/_base.py:1237: ConvergenceWarning: Liblinear failed to converge, increase the number of iterations.\n",
      "  warnings.warn(\n",
      "/Users/kaylahoffman/miniconda3/lib/python3.9/site-packages/sklearn/svm/_base.py:1237: ConvergenceWarning: Liblinear failed to converge, increase the number of iterations.\n",
      "  warnings.warn(\n",
      "/Users/kaylahoffman/miniconda3/lib/python3.9/site-packages/sklearn/svm/_base.py:1237: ConvergenceWarning: Liblinear failed to converge, increase the number of iterations.\n",
      "  warnings.warn(\n",
      "/Users/kaylahoffman/miniconda3/lib/python3.9/site-packages/sklearn/svm/_base.py:1237: ConvergenceWarning: Liblinear failed to converge, increase the number of iterations.\n",
      "  warnings.warn(\n",
      "/Users/kaylahoffman/miniconda3/lib/python3.9/site-packages/sklearn/svm/_base.py:1237: ConvergenceWarning: Liblinear failed to converge, increase the number of iterations.\n",
      "  warnings.warn(\n",
      "/Users/kaylahoffman/miniconda3/lib/python3.9/site-packages/sklearn/svm/_base.py:1237: ConvergenceWarning: Liblinear failed to converge, increase the number of iterations.\n",
      "  warnings.warn(\n",
      "/Users/kaylahoffman/miniconda3/lib/python3.9/site-packages/sklearn/svm/_base.py:1237: ConvergenceWarning: Liblinear failed to converge, increase the number of iterations.\n",
      "  warnings.warn(\n",
      "/Users/kaylahoffman/miniconda3/lib/python3.9/site-packages/sklearn/svm/_base.py:1237: ConvergenceWarning: Liblinear failed to converge, increase the number of iterations.\n",
      "  warnings.warn(\n",
      "/Users/kaylahoffman/miniconda3/lib/python3.9/site-packages/sklearn/svm/_base.py:1237: ConvergenceWarning: Liblinear failed to converge, increase the number of iterations.\n",
      "  warnings.warn(\n",
      "/Users/kaylahoffman/miniconda3/lib/python3.9/site-packages/sklearn/svm/_base.py:1237: ConvergenceWarning: Liblinear failed to converge, increase the number of iterations.\n",
      "  warnings.warn(\n"
     ]
    },
    {
     "name": "stdout",
     "output_type": "stream",
     "text": [
      "Label Family: Best C=1\n",
      "Best estimator: LinearSVC(C=1, dual=False, penalty='l1')\n",
      "Cross-validation score: 0.9406288459717882\n",
      "\n",
      "Training SVM for label Genus...\n"
     ]
    },
    {
     "name": "stderr",
     "output_type": "stream",
     "text": [
      "/Users/kaylahoffman/miniconda3/lib/python3.9/site-packages/sklearn/svm/_base.py:1237: ConvergenceWarning: Liblinear failed to converge, increase the number of iterations.\n",
      "  warnings.warn(\n",
      "/Users/kaylahoffman/miniconda3/lib/python3.9/site-packages/sklearn/svm/_base.py:1237: ConvergenceWarning: Liblinear failed to converge, increase the number of iterations.\n",
      "  warnings.warn(\n",
      "/Users/kaylahoffman/miniconda3/lib/python3.9/site-packages/sklearn/svm/_base.py:1237: ConvergenceWarning: Liblinear failed to converge, increase the number of iterations.\n",
      "  warnings.warn(\n",
      "/Users/kaylahoffman/miniconda3/lib/python3.9/site-packages/sklearn/svm/_base.py:1237: ConvergenceWarning: Liblinear failed to converge, increase the number of iterations.\n",
      "  warnings.warn(\n",
      "/Users/kaylahoffman/miniconda3/lib/python3.9/site-packages/sklearn/svm/_base.py:1237: ConvergenceWarning: Liblinear failed to converge, increase the number of iterations.\n",
      "  warnings.warn(\n",
      "/Users/kaylahoffman/miniconda3/lib/python3.9/site-packages/sklearn/svm/_base.py:1237: ConvergenceWarning: Liblinear failed to converge, increase the number of iterations.\n",
      "  warnings.warn(\n",
      "/Users/kaylahoffman/miniconda3/lib/python3.9/site-packages/sklearn/svm/_base.py:1237: ConvergenceWarning: Liblinear failed to converge, increase the number of iterations.\n",
      "  warnings.warn(\n",
      "/Users/kaylahoffman/miniconda3/lib/python3.9/site-packages/sklearn/svm/_base.py:1237: ConvergenceWarning: Liblinear failed to converge, increase the number of iterations.\n",
      "  warnings.warn(\n",
      "/Users/kaylahoffman/miniconda3/lib/python3.9/site-packages/sklearn/svm/_base.py:1237: ConvergenceWarning: Liblinear failed to converge, increase the number of iterations.\n",
      "  warnings.warn(\n",
      "/Users/kaylahoffman/miniconda3/lib/python3.9/site-packages/sklearn/svm/_base.py:1237: ConvergenceWarning: Liblinear failed to converge, increase the number of iterations.\n",
      "  warnings.warn(\n",
      "/Users/kaylahoffman/miniconda3/lib/python3.9/site-packages/sklearn/svm/_base.py:1237: ConvergenceWarning: Liblinear failed to converge, increase the number of iterations.\n",
      "  warnings.warn(\n",
      "/Users/kaylahoffman/miniconda3/lib/python3.9/site-packages/sklearn/svm/_base.py:1237: ConvergenceWarning: Liblinear failed to converge, increase the number of iterations.\n",
      "  warnings.warn(\n",
      "/Users/kaylahoffman/miniconda3/lib/python3.9/site-packages/sklearn/svm/_base.py:1237: ConvergenceWarning: Liblinear failed to converge, increase the number of iterations.\n",
      "  warnings.warn(\n",
      "/Users/kaylahoffman/miniconda3/lib/python3.9/site-packages/sklearn/svm/_base.py:1237: ConvergenceWarning: Liblinear failed to converge, increase the number of iterations.\n",
      "  warnings.warn(\n",
      "/Users/kaylahoffman/miniconda3/lib/python3.9/site-packages/sklearn/svm/_base.py:1237: ConvergenceWarning: Liblinear failed to converge, increase the number of iterations.\n",
      "  warnings.warn(\n",
      "/Users/kaylahoffman/miniconda3/lib/python3.9/site-packages/sklearn/svm/_base.py:1237: ConvergenceWarning: Liblinear failed to converge, increase the number of iterations.\n",
      "  warnings.warn(\n",
      "/Users/kaylahoffman/miniconda3/lib/python3.9/site-packages/sklearn/svm/_base.py:1237: ConvergenceWarning: Liblinear failed to converge, increase the number of iterations.\n",
      "  warnings.warn(\n",
      "/Users/kaylahoffman/miniconda3/lib/python3.9/site-packages/sklearn/svm/_base.py:1237: ConvergenceWarning: Liblinear failed to converge, increase the number of iterations.\n",
      "  warnings.warn(\n",
      "/Users/kaylahoffman/miniconda3/lib/python3.9/site-packages/sklearn/svm/_base.py:1237: ConvergenceWarning: Liblinear failed to converge, increase the number of iterations.\n",
      "  warnings.warn(\n",
      "/Users/kaylahoffman/miniconda3/lib/python3.9/site-packages/sklearn/svm/_base.py:1237: ConvergenceWarning: Liblinear failed to converge, increase the number of iterations.\n",
      "  warnings.warn(\n",
      "/Users/kaylahoffman/miniconda3/lib/python3.9/site-packages/sklearn/svm/_base.py:1237: ConvergenceWarning: Liblinear failed to converge, increase the number of iterations.\n",
      "  warnings.warn(\n",
      "/Users/kaylahoffman/miniconda3/lib/python3.9/site-packages/sklearn/svm/_base.py:1237: ConvergenceWarning: Liblinear failed to converge, increase the number of iterations.\n",
      "  warnings.warn(\n",
      "/Users/kaylahoffman/miniconda3/lib/python3.9/site-packages/sklearn/svm/_base.py:1237: ConvergenceWarning: Liblinear failed to converge, increase the number of iterations.\n",
      "  warnings.warn(\n",
      "/Users/kaylahoffman/miniconda3/lib/python3.9/site-packages/sklearn/svm/_base.py:1237: ConvergenceWarning: Liblinear failed to converge, increase the number of iterations.\n",
      "  warnings.warn(\n",
      "/Users/kaylahoffman/miniconda3/lib/python3.9/site-packages/sklearn/svm/_base.py:1237: ConvergenceWarning: Liblinear failed to converge, increase the number of iterations.\n",
      "  warnings.warn(\n",
      "/Users/kaylahoffman/miniconda3/lib/python3.9/site-packages/sklearn/svm/_base.py:1237: ConvergenceWarning: Liblinear failed to converge, increase the number of iterations.\n",
      "  warnings.warn(\n",
      "/Users/kaylahoffman/miniconda3/lib/python3.9/site-packages/sklearn/svm/_base.py:1237: ConvergenceWarning: Liblinear failed to converge, increase the number of iterations.\n",
      "  warnings.warn(\n",
      "/Users/kaylahoffman/miniconda3/lib/python3.9/site-packages/sklearn/svm/_base.py:1237: ConvergenceWarning: Liblinear failed to converge, increase the number of iterations.\n",
      "  warnings.warn(\n",
      "/Users/kaylahoffman/miniconda3/lib/python3.9/site-packages/sklearn/svm/_base.py:1237: ConvergenceWarning: Liblinear failed to converge, increase the number of iterations.\n",
      "  warnings.warn(\n",
      "/Users/kaylahoffman/miniconda3/lib/python3.9/site-packages/sklearn/svm/_base.py:1237: ConvergenceWarning: Liblinear failed to converge, increase the number of iterations.\n",
      "  warnings.warn(\n",
      "/Users/kaylahoffman/miniconda3/lib/python3.9/site-packages/sklearn/svm/_base.py:1237: ConvergenceWarning: Liblinear failed to converge, increase the number of iterations.\n",
      "  warnings.warn(\n",
      "/Users/kaylahoffman/miniconda3/lib/python3.9/site-packages/sklearn/svm/_base.py:1237: ConvergenceWarning: Liblinear failed to converge, increase the number of iterations.\n",
      "  warnings.warn(\n",
      "/Users/kaylahoffman/miniconda3/lib/python3.9/site-packages/sklearn/svm/_base.py:1237: ConvergenceWarning: Liblinear failed to converge, increase the number of iterations.\n",
      "  warnings.warn(\n",
      "/Users/kaylahoffman/miniconda3/lib/python3.9/site-packages/sklearn/svm/_base.py:1237: ConvergenceWarning: Liblinear failed to converge, increase the number of iterations.\n",
      "  warnings.warn(\n",
      "/Users/kaylahoffman/miniconda3/lib/python3.9/site-packages/sklearn/svm/_base.py:1237: ConvergenceWarning: Liblinear failed to converge, increase the number of iterations.\n",
      "  warnings.warn(\n",
      "/Users/kaylahoffman/miniconda3/lib/python3.9/site-packages/sklearn/svm/_base.py:1237: ConvergenceWarning: Liblinear failed to converge, increase the number of iterations.\n",
      "  warnings.warn(\n",
      "/Users/kaylahoffman/miniconda3/lib/python3.9/site-packages/sklearn/svm/_base.py:1237: ConvergenceWarning: Liblinear failed to converge, increase the number of iterations.\n",
      "  warnings.warn(\n",
      "/Users/kaylahoffman/miniconda3/lib/python3.9/site-packages/sklearn/svm/_base.py:1237: ConvergenceWarning: Liblinear failed to converge, increase the number of iterations.\n",
      "  warnings.warn(\n",
      "/Users/kaylahoffman/miniconda3/lib/python3.9/site-packages/sklearn/svm/_base.py:1237: ConvergenceWarning: Liblinear failed to converge, increase the number of iterations.\n",
      "  warnings.warn(\n",
      "/Users/kaylahoffman/miniconda3/lib/python3.9/site-packages/sklearn/svm/_base.py:1237: ConvergenceWarning: Liblinear failed to converge, increase the number of iterations.\n",
      "  warnings.warn(\n",
      "/Users/kaylahoffman/miniconda3/lib/python3.9/site-packages/sklearn/svm/_base.py:1237: ConvergenceWarning: Liblinear failed to converge, increase the number of iterations.\n",
      "  warnings.warn(\n",
      "/Users/kaylahoffman/miniconda3/lib/python3.9/site-packages/sklearn/svm/_base.py:1237: ConvergenceWarning: Liblinear failed to converge, increase the number of iterations.\n",
      "  warnings.warn(\n",
      "/Users/kaylahoffman/miniconda3/lib/python3.9/site-packages/sklearn/svm/_base.py:1237: ConvergenceWarning: Liblinear failed to converge, increase the number of iterations.\n",
      "  warnings.warn(\n",
      "/Users/kaylahoffman/miniconda3/lib/python3.9/site-packages/sklearn/svm/_base.py:1237: ConvergenceWarning: Liblinear failed to converge, increase the number of iterations.\n",
      "  warnings.warn(\n",
      "/Users/kaylahoffman/miniconda3/lib/python3.9/site-packages/sklearn/svm/_base.py:1237: ConvergenceWarning: Liblinear failed to converge, increase the number of iterations.\n",
      "  warnings.warn(\n",
      "/Users/kaylahoffman/miniconda3/lib/python3.9/site-packages/sklearn/svm/_base.py:1237: ConvergenceWarning: Liblinear failed to converge, increase the number of iterations.\n",
      "  warnings.warn(\n",
      "/Users/kaylahoffman/miniconda3/lib/python3.9/site-packages/sklearn/svm/_base.py:1237: ConvergenceWarning: Liblinear failed to converge, increase the number of iterations.\n",
      "  warnings.warn(\n",
      "/Users/kaylahoffman/miniconda3/lib/python3.9/site-packages/sklearn/svm/_base.py:1237: ConvergenceWarning: Liblinear failed to converge, increase the number of iterations.\n",
      "  warnings.warn(\n",
      "/Users/kaylahoffman/miniconda3/lib/python3.9/site-packages/sklearn/svm/_base.py:1237: ConvergenceWarning: Liblinear failed to converge, increase the number of iterations.\n",
      "  warnings.warn(\n",
      "/Users/kaylahoffman/miniconda3/lib/python3.9/site-packages/sklearn/svm/_base.py:1237: ConvergenceWarning: Liblinear failed to converge, increase the number of iterations.\n",
      "  warnings.warn(\n"
     ]
    },
    {
     "name": "stdout",
     "output_type": "stream",
     "text": [
      "Label Genus: Best C=10\n",
      "Best estimator: LinearSVC(C=10, dual=False, penalty='l1')\n",
      "Cross-validation score: 0.9523454511029066\n",
      "\n",
      "Training SVM for label Species...\n"
     ]
    },
    {
     "name": "stderr",
     "output_type": "stream",
     "text": [
      "/Users/kaylahoffman/miniconda3/lib/python3.9/site-packages/sklearn/svm/_base.py:1237: ConvergenceWarning: Liblinear failed to converge, increase the number of iterations.\n",
      "  warnings.warn(\n",
      "/Users/kaylahoffman/miniconda3/lib/python3.9/site-packages/sklearn/svm/_base.py:1237: ConvergenceWarning: Liblinear failed to converge, increase the number of iterations.\n",
      "  warnings.warn(\n",
      "/Users/kaylahoffman/miniconda3/lib/python3.9/site-packages/sklearn/svm/_base.py:1237: ConvergenceWarning: Liblinear failed to converge, increase the number of iterations.\n",
      "  warnings.warn(\n",
      "/Users/kaylahoffman/miniconda3/lib/python3.9/site-packages/sklearn/svm/_base.py:1237: ConvergenceWarning: Liblinear failed to converge, increase the number of iterations.\n",
      "  warnings.warn(\n",
      "/Users/kaylahoffman/miniconda3/lib/python3.9/site-packages/sklearn/svm/_base.py:1237: ConvergenceWarning: Liblinear failed to converge, increase the number of iterations.\n",
      "  warnings.warn(\n",
      "/Users/kaylahoffman/miniconda3/lib/python3.9/site-packages/sklearn/svm/_base.py:1237: ConvergenceWarning: Liblinear failed to converge, increase the number of iterations.\n",
      "  warnings.warn(\n",
      "/Users/kaylahoffman/miniconda3/lib/python3.9/site-packages/sklearn/svm/_base.py:1237: ConvergenceWarning: Liblinear failed to converge, increase the number of iterations.\n",
      "  warnings.warn(\n",
      "/Users/kaylahoffman/miniconda3/lib/python3.9/site-packages/sklearn/svm/_base.py:1237: ConvergenceWarning: Liblinear failed to converge, increase the number of iterations.\n",
      "  warnings.warn(\n",
      "/Users/kaylahoffman/miniconda3/lib/python3.9/site-packages/sklearn/svm/_base.py:1237: ConvergenceWarning: Liblinear failed to converge, increase the number of iterations.\n",
      "  warnings.warn(\n",
      "/Users/kaylahoffman/miniconda3/lib/python3.9/site-packages/sklearn/svm/_base.py:1237: ConvergenceWarning: Liblinear failed to converge, increase the number of iterations.\n",
      "  warnings.warn(\n",
      "/Users/kaylahoffman/miniconda3/lib/python3.9/site-packages/sklearn/svm/_base.py:1237: ConvergenceWarning: Liblinear failed to converge, increase the number of iterations.\n",
      "  warnings.warn(\n",
      "/Users/kaylahoffman/miniconda3/lib/python3.9/site-packages/sklearn/svm/_base.py:1237: ConvergenceWarning: Liblinear failed to converge, increase the number of iterations.\n",
      "  warnings.warn(\n",
      "/Users/kaylahoffman/miniconda3/lib/python3.9/site-packages/sklearn/svm/_base.py:1237: ConvergenceWarning: Liblinear failed to converge, increase the number of iterations.\n",
      "  warnings.warn(\n",
      "/Users/kaylahoffman/miniconda3/lib/python3.9/site-packages/sklearn/svm/_base.py:1237: ConvergenceWarning: Liblinear failed to converge, increase the number of iterations.\n",
      "  warnings.warn(\n",
      "/Users/kaylahoffman/miniconda3/lib/python3.9/site-packages/sklearn/svm/_base.py:1237: ConvergenceWarning: Liblinear failed to converge, increase the number of iterations.\n",
      "  warnings.warn(\n",
      "/Users/kaylahoffman/miniconda3/lib/python3.9/site-packages/sklearn/svm/_base.py:1237: ConvergenceWarning: Liblinear failed to converge, increase the number of iterations.\n",
      "  warnings.warn(\n",
      "/Users/kaylahoffman/miniconda3/lib/python3.9/site-packages/sklearn/svm/_base.py:1237: ConvergenceWarning: Liblinear failed to converge, increase the number of iterations.\n",
      "  warnings.warn(\n",
      "/Users/kaylahoffman/miniconda3/lib/python3.9/site-packages/sklearn/svm/_base.py:1237: ConvergenceWarning: Liblinear failed to converge, increase the number of iterations.\n",
      "  warnings.warn(\n",
      "/Users/kaylahoffman/miniconda3/lib/python3.9/site-packages/sklearn/svm/_base.py:1237: ConvergenceWarning: Liblinear failed to converge, increase the number of iterations.\n",
      "  warnings.warn(\n",
      "/Users/kaylahoffman/miniconda3/lib/python3.9/site-packages/sklearn/svm/_base.py:1237: ConvergenceWarning: Liblinear failed to converge, increase the number of iterations.\n",
      "  warnings.warn(\n",
      "/Users/kaylahoffman/miniconda3/lib/python3.9/site-packages/sklearn/svm/_base.py:1237: ConvergenceWarning: Liblinear failed to converge, increase the number of iterations.\n",
      "  warnings.warn(\n",
      "/Users/kaylahoffman/miniconda3/lib/python3.9/site-packages/sklearn/svm/_base.py:1237: ConvergenceWarning: Liblinear failed to converge, increase the number of iterations.\n",
      "  warnings.warn(\n",
      "/Users/kaylahoffman/miniconda3/lib/python3.9/site-packages/sklearn/svm/_base.py:1237: ConvergenceWarning: Liblinear failed to converge, increase the number of iterations.\n",
      "  warnings.warn(\n",
      "/Users/kaylahoffman/miniconda3/lib/python3.9/site-packages/sklearn/svm/_base.py:1237: ConvergenceWarning: Liblinear failed to converge, increase the number of iterations.\n",
      "  warnings.warn(\n",
      "/Users/kaylahoffman/miniconda3/lib/python3.9/site-packages/sklearn/svm/_base.py:1237: ConvergenceWarning: Liblinear failed to converge, increase the number of iterations.\n",
      "  warnings.warn(\n",
      "/Users/kaylahoffman/miniconda3/lib/python3.9/site-packages/sklearn/svm/_base.py:1237: ConvergenceWarning: Liblinear failed to converge, increase the number of iterations.\n",
      "  warnings.warn(\n",
      "/Users/kaylahoffman/miniconda3/lib/python3.9/site-packages/sklearn/svm/_base.py:1237: ConvergenceWarning: Liblinear failed to converge, increase the number of iterations.\n",
      "  warnings.warn(\n",
      "/Users/kaylahoffman/miniconda3/lib/python3.9/site-packages/sklearn/svm/_base.py:1237: ConvergenceWarning: Liblinear failed to converge, increase the number of iterations.\n",
      "  warnings.warn(\n",
      "/Users/kaylahoffman/miniconda3/lib/python3.9/site-packages/sklearn/svm/_base.py:1237: ConvergenceWarning: Liblinear failed to converge, increase the number of iterations.\n",
      "  warnings.warn(\n",
      "/Users/kaylahoffman/miniconda3/lib/python3.9/site-packages/sklearn/svm/_base.py:1237: ConvergenceWarning: Liblinear failed to converge, increase the number of iterations.\n",
      "  warnings.warn(\n",
      "/Users/kaylahoffman/miniconda3/lib/python3.9/site-packages/sklearn/svm/_base.py:1237: ConvergenceWarning: Liblinear failed to converge, increase the number of iterations.\n",
      "  warnings.warn(\n",
      "/Users/kaylahoffman/miniconda3/lib/python3.9/site-packages/sklearn/svm/_base.py:1237: ConvergenceWarning: Liblinear failed to converge, increase the number of iterations.\n",
      "  warnings.warn(\n",
      "/Users/kaylahoffman/miniconda3/lib/python3.9/site-packages/sklearn/svm/_base.py:1237: ConvergenceWarning: Liblinear failed to converge, increase the number of iterations.\n",
      "  warnings.warn(\n",
      "/Users/kaylahoffman/miniconda3/lib/python3.9/site-packages/sklearn/svm/_base.py:1237: ConvergenceWarning: Liblinear failed to converge, increase the number of iterations.\n",
      "  warnings.warn(\n",
      "/Users/kaylahoffman/miniconda3/lib/python3.9/site-packages/sklearn/svm/_base.py:1237: ConvergenceWarning: Liblinear failed to converge, increase the number of iterations.\n",
      "  warnings.warn(\n",
      "/Users/kaylahoffman/miniconda3/lib/python3.9/site-packages/sklearn/svm/_base.py:1237: ConvergenceWarning: Liblinear failed to converge, increase the number of iterations.\n",
      "  warnings.warn(\n",
      "/Users/kaylahoffman/miniconda3/lib/python3.9/site-packages/sklearn/svm/_base.py:1237: ConvergenceWarning: Liblinear failed to converge, increase the number of iterations.\n",
      "  warnings.warn(\n",
      "/Users/kaylahoffman/miniconda3/lib/python3.9/site-packages/sklearn/svm/_base.py:1237: ConvergenceWarning: Liblinear failed to converge, increase the number of iterations.\n",
      "  warnings.warn(\n",
      "/Users/kaylahoffman/miniconda3/lib/python3.9/site-packages/sklearn/svm/_base.py:1237: ConvergenceWarning: Liblinear failed to converge, increase the number of iterations.\n",
      "  warnings.warn(\n",
      "/Users/kaylahoffman/miniconda3/lib/python3.9/site-packages/sklearn/svm/_base.py:1237: ConvergenceWarning: Liblinear failed to converge, increase the number of iterations.\n",
      "  warnings.warn(\n",
      "/Users/kaylahoffman/miniconda3/lib/python3.9/site-packages/sklearn/svm/_base.py:1237: ConvergenceWarning: Liblinear failed to converge, increase the number of iterations.\n",
      "  warnings.warn(\n",
      "/Users/kaylahoffman/miniconda3/lib/python3.9/site-packages/sklearn/svm/_base.py:1237: ConvergenceWarning: Liblinear failed to converge, increase the number of iterations.\n",
      "  warnings.warn(\n",
      "/Users/kaylahoffman/miniconda3/lib/python3.9/site-packages/sklearn/svm/_base.py:1237: ConvergenceWarning: Liblinear failed to converge, increase the number of iterations.\n",
      "  warnings.warn(\n",
      "/Users/kaylahoffman/miniconda3/lib/python3.9/site-packages/sklearn/svm/_base.py:1237: ConvergenceWarning: Liblinear failed to converge, increase the number of iterations.\n",
      "  warnings.warn(\n",
      "/Users/kaylahoffman/miniconda3/lib/python3.9/site-packages/sklearn/svm/_base.py:1237: ConvergenceWarning: Liblinear failed to converge, increase the number of iterations.\n",
      "  warnings.warn(\n",
      "/Users/kaylahoffman/miniconda3/lib/python3.9/site-packages/sklearn/svm/_base.py:1237: ConvergenceWarning: Liblinear failed to converge, increase the number of iterations.\n",
      "  warnings.warn(\n",
      "/Users/kaylahoffman/miniconda3/lib/python3.9/site-packages/sklearn/svm/_base.py:1237: ConvergenceWarning: Liblinear failed to converge, increase the number of iterations.\n",
      "  warnings.warn(\n",
      "/Users/kaylahoffman/miniconda3/lib/python3.9/site-packages/sklearn/svm/_base.py:1237: ConvergenceWarning: Liblinear failed to converge, increase the number of iterations.\n",
      "  warnings.warn(\n",
      "/Users/kaylahoffman/miniconda3/lib/python3.9/site-packages/sklearn/svm/_base.py:1237: ConvergenceWarning: Liblinear failed to converge, increase the number of iterations.\n",
      "  warnings.warn(\n",
      "/Users/kaylahoffman/miniconda3/lib/python3.9/site-packages/sklearn/svm/_base.py:1237: ConvergenceWarning: Liblinear failed to converge, increase the number of iterations.\n",
      "  warnings.warn(\n"
     ]
    },
    {
     "name": "stdout",
     "output_type": "stream",
     "text": [
      "Label Species: Best C=10\n",
      "Best estimator: LinearSVC(C=10, dual=False, penalty='l1')\n",
      "Cross-validation score: 0.9602847202499291\n",
      "\n",
      "CPU times: user 5.57 s, sys: 204 ms, total: 5.77 s\n",
      "Wall time: 1min 13s\n"
     ]
    }
   ],
   "source": [
    "%%time\n",
    "from imblearn.combine import SMOTEENN\n",
    "\n",
    "# Set up pipeline\n",
    "# Lets apply SMOTE with Under-Sampling for better balnce and performance\n",
    "pipeline = imbpipeline(steps = [['smote', SMOTEENN(random_state=42)],  # Use SMOTE in each iteration\n",
    "                                ['svm', LinearSVC()]])\n",
    "\n",
    "# Define parameter grid\n",
    "params = {\n",
    "    'penalty': ['l1'],\n",
    "    'dual': [False],\n",
    "    'C': C_large,\n",
    "    'multi_class': ['ovr'],\n",
    "    'max_iter': [1000]\n",
    "}\n",
    "\n",
    "# Train SVM for each label (multi-label scenario or one-vs-all)\n",
    "for label in y_train.columns:  # Assuming y_train is a DataFrame with columns for each label\n",
    "    print(f\"Training SVM for label {label}...\")\n",
    "        \n",
    "    # Initialize GridSearchCV object\n",
    "    svclassifier = GridSearchCV(estimator=LinearSVC(), param_grid=params, cv=10, n_jobs=8)\n",
    "        \n",
    "    # Fit the model for the current label\n",
    "    svclassifier.fit(X_train_stand, y_train[label])\n",
    "        \n",
    "    # Get the best model and cross-validation score\n",
    "    best_model = svclassifier.best_estimator_\n",
    "    best_params = svclassifier.best_params_\n",
    "    cv_score = svclassifier.best_score_\n",
    "        \n",
    "        \n",
    "    # Report model statistics\n",
    "    print(f\"Label {label}: Best C={best_params['C']}\")\n",
    "    print(f\"Best estimator: {best_model}\")\n",
    "    print(f\"Cross-validation score: {cv_score}\\n\")"
   ]
  },
  {
   "cell_type": "markdown",
   "metadata": {},
   "source": [
    "### L1-Penalized SVMs SMOTE - Small Parameters "
   ]
  },
  {
   "cell_type": "code",
   "execution_count": 22,
   "metadata": {},
   "outputs": [
    {
     "name": "stdout",
     "output_type": "stream",
     "text": [
      "Training SVM for label Family...\n"
     ]
    },
    {
     "name": "stderr",
     "output_type": "stream",
     "text": [
      "/Users/kaylahoffman/miniconda3/lib/python3.9/site-packages/sklearn/svm/_base.py:1237: ConvergenceWarning: Liblinear failed to converge, increase the number of iterations.\n",
      "  warnings.warn(\n",
      "/Users/kaylahoffman/miniconda3/lib/python3.9/site-packages/sklearn/svm/_base.py:1237: ConvergenceWarning: Liblinear failed to converge, increase the number of iterations.\n",
      "  warnings.warn(\n"
     ]
    },
    {
     "name": "stdout",
     "output_type": "stream",
     "text": [
      "Label Family: Best C=0.1\n",
      "Best estimator: LinearSVC(C=0.1, dual=False, penalty='l1')\n",
      "Cross-validation score: 0.9380486919751332\n",
      "\n",
      "Training SVM for label Genus...\n"
     ]
    },
    {
     "name": "stderr",
     "output_type": "stream",
     "text": [
      "/Users/kaylahoffman/miniconda3/lib/python3.9/site-packages/sklearn/svm/_base.py:1237: ConvergenceWarning: Liblinear failed to converge, increase the number of iterations.\n",
      "  warnings.warn(\n",
      "/Users/kaylahoffman/miniconda3/lib/python3.9/site-packages/sklearn/svm/_base.py:1237: ConvergenceWarning: Liblinear failed to converge, increase the number of iterations.\n",
      "  warnings.warn(\n",
      "/Users/kaylahoffman/miniconda3/lib/python3.9/site-packages/sklearn/svm/_base.py:1237: ConvergenceWarning: Liblinear failed to converge, increase the number of iterations.\n",
      "  warnings.warn(\n",
      "/Users/kaylahoffman/miniconda3/lib/python3.9/site-packages/sklearn/svm/_base.py:1237: ConvergenceWarning: Liblinear failed to converge, increase the number of iterations.\n",
      "  warnings.warn(\n",
      "/Users/kaylahoffman/miniconda3/lib/python3.9/site-packages/sklearn/svm/_base.py:1237: ConvergenceWarning: Liblinear failed to converge, increase the number of iterations.\n",
      "  warnings.warn(\n",
      "/Users/kaylahoffman/miniconda3/lib/python3.9/site-packages/sklearn/svm/_base.py:1237: ConvergenceWarning: Liblinear failed to converge, increase the number of iterations.\n",
      "  warnings.warn(\n",
      "/Users/kaylahoffman/miniconda3/lib/python3.9/site-packages/sklearn/svm/_base.py:1237: ConvergenceWarning: Liblinear failed to converge, increase the number of iterations.\n",
      "  warnings.warn(\n"
     ]
    },
    {
     "name": "stdout",
     "output_type": "stream",
     "text": [
      "Label Genus: Best C=0.1\n",
      "Best estimator: LinearSVC(C=0.1, dual=False, penalty='l1')\n",
      "Cross-validation score: 0.9426141563318501\n",
      "\n",
      "Training SVM for label Species...\n"
     ]
    },
    {
     "name": "stderr",
     "output_type": "stream",
     "text": [
      "/Users/kaylahoffman/miniconda3/lib/python3.9/site-packages/sklearn/svm/_base.py:1237: ConvergenceWarning: Liblinear failed to converge, increase the number of iterations.\n",
      "  warnings.warn(\n",
      "/Users/kaylahoffman/miniconda3/lib/python3.9/site-packages/sklearn/svm/_base.py:1237: ConvergenceWarning: Liblinear failed to converge, increase the number of iterations.\n",
      "  warnings.warn(\n",
      "/Users/kaylahoffman/miniconda3/lib/python3.9/site-packages/sklearn/svm/_base.py:1237: ConvergenceWarning: Liblinear failed to converge, increase the number of iterations.\n",
      "  warnings.warn(\n",
      "/Users/kaylahoffman/miniconda3/lib/python3.9/site-packages/sklearn/svm/_base.py:1237: ConvergenceWarning: Liblinear failed to converge, increase the number of iterations.\n",
      "  warnings.warn(\n",
      "/Users/kaylahoffman/miniconda3/lib/python3.9/site-packages/sklearn/svm/_base.py:1237: ConvergenceWarning: Liblinear failed to converge, increase the number of iterations.\n",
      "  warnings.warn(\n",
      "/Users/kaylahoffman/miniconda3/lib/python3.9/site-packages/sklearn/svm/_base.py:1237: ConvergenceWarning: Liblinear failed to converge, increase the number of iterations.\n",
      "  warnings.warn(\n",
      "/Users/kaylahoffman/miniconda3/lib/python3.9/site-packages/sklearn/svm/_base.py:1237: ConvergenceWarning: Liblinear failed to converge, increase the number of iterations.\n",
      "  warnings.warn(\n",
      "/Users/kaylahoffman/miniconda3/lib/python3.9/site-packages/sklearn/svm/_base.py:1237: ConvergenceWarning: Liblinear failed to converge, increase the number of iterations.\n",
      "  warnings.warn(\n",
      "/Users/kaylahoffman/miniconda3/lib/python3.9/site-packages/sklearn/svm/_base.py:1237: ConvergenceWarning: Liblinear failed to converge, increase the number of iterations.\n",
      "  warnings.warn(\n",
      "/Users/kaylahoffman/miniconda3/lib/python3.9/site-packages/sklearn/svm/_base.py:1237: ConvergenceWarning: Liblinear failed to converge, increase the number of iterations.\n",
      "  warnings.warn(\n"
     ]
    },
    {
     "name": "stdout",
     "output_type": "stream",
     "text": [
      "Label Species: Best C=0.1\n",
      "Best estimator: LinearSVC(C=0.1, dual=False, penalty='l1')\n",
      "Cross-validation score: 0.9499585818422795\n",
      "\n",
      "CPU times: user 3.22 s, sys: 86.1 ms, total: 3.3 s\n",
      "Wall time: 13.6 s\n"
     ]
    }
   ],
   "source": [
    "%%time\n",
    "\n",
    "# Set up pipeline\n",
    "# Lets apply SMOTE with Under-Sampling for better balnce and performance\n",
    "pipeline = imbpipeline(steps = [['smote', SMOTEENN(random_state=42)],  # Use SMOTE in each iteration\n",
    "                                ['svm', LinearSVC()]])\n",
    "\n",
    "# Define parameter grid\n",
    "params = {\n",
    "    'penalty': ['l1'],\n",
    "    'dual': [False],\n",
    "    'C': C_small,\n",
    "    'multi_class': ['ovr'],\n",
    "    'max_iter': [1000]\n",
    "}\n",
    "\n",
    "# Train SVM for each label (multi-label scenario or one-vs-all)\n",
    "for label in y_train.columns:  # Assuming y_train is a DataFrame with columns for each label\n",
    "    print(f\"Training SVM for label {label}...\")\n",
    "        \n",
    "    # Initialize GridSearchCV object\n",
    "    svclassifier = GridSearchCV(estimator=LinearSVC(), param_grid=params, cv=10, n_jobs=8)\n",
    "        \n",
    "    # Fit the model for the current label\n",
    "    svclassifier.fit(X_train_stand, y_train[label])\n",
    "        \n",
    "    # Get the best model and cross-validation score\n",
    "    best_model = svclassifier.best_estimator_\n",
    "    best_params = svclassifier.best_params_\n",
    "    cv_score = svclassifier.best_score_\n",
    "        \n",
    "        \n",
    "    # Report model statistics\n",
    "    print(f\"Label {label}: Best C={best_params['C']}\")\n",
    "    print(f\"Best estimator: {best_model}\")\n",
    "    print(f\"Cross-validation score: {cv_score}\\n\")"
   ]
  },
  {
   "cell_type": "markdown",
   "metadata": {},
   "source": [
    "### L1-Penalized SVMs with SMOTE - Final Model "
   ]
  },
  {
   "cell_type": "code",
   "execution_count": 23,
   "metadata": {},
   "outputs": [
    {
     "name": "stdout",
     "output_type": "stream",
     "text": [
      "[ 0.1         0.1274275   0.16237767  0.20691381  0.26366509  0.33598183\n",
      "  0.42813324  0.54555948  0.6951928   0.88586679  1.12883789  1.43844989\n",
      "  1.83298071  2.33572147  2.97635144  3.79269019  4.83293024  6.15848211\n",
      "  7.8475997  10.        ]\n"
     ]
    }
   ],
   "source": [
    "# Create paramter sets\n",
    "C = np.logspace(-1, 1, 20)\n",
    "print(C)"
   ]
  },
  {
   "cell_type": "code",
   "execution_count": 24,
   "metadata": {},
   "outputs": [
    {
     "name": "stdout",
     "output_type": "stream",
     "text": [
      "Training SVM for label Family...\n"
     ]
    },
    {
     "name": "stderr",
     "output_type": "stream",
     "text": [
      "/Users/kaylahoffman/miniconda3/lib/python3.9/site-packages/sklearn/svm/_base.py:1237: ConvergenceWarning: Liblinear failed to converge, increase the number of iterations.\n",
      "  warnings.warn(\n",
      "/Users/kaylahoffman/miniconda3/lib/python3.9/site-packages/sklearn/svm/_base.py:1237: ConvergenceWarning: Liblinear failed to converge, increase the number of iterations.\n",
      "  warnings.warn(\n",
      "/Users/kaylahoffman/miniconda3/lib/python3.9/site-packages/sklearn/svm/_base.py:1237: ConvergenceWarning: Liblinear failed to converge, increase the number of iterations.\n",
      "  warnings.warn(\n"
     ]
    },
    {
     "name": "stdout",
     "output_type": "stream",
     "text": [
      "Label Family: Best C=0.1\n",
      "Best estimator: LinearSVC(C=0.1, dual=False, penalty='l1')\n",
      "Cross-validation score: 0.938247499132191\n",
      "\n",
      "Training SVM for label Genus...\n"
     ]
    },
    {
     "name": "stderr",
     "output_type": "stream",
     "text": [
      "/Users/kaylahoffman/miniconda3/lib/python3.9/site-packages/sklearn/svm/_base.py:1237: ConvergenceWarning: Liblinear failed to converge, increase the number of iterations.\n",
      "  warnings.warn(\n",
      "/Users/kaylahoffman/miniconda3/lib/python3.9/site-packages/sklearn/svm/_base.py:1237: ConvergenceWarning: Liblinear failed to converge, increase the number of iterations.\n",
      "  warnings.warn(\n",
      "/Users/kaylahoffman/miniconda3/lib/python3.9/site-packages/sklearn/svm/_base.py:1237: ConvergenceWarning: Liblinear failed to converge, increase the number of iterations.\n",
      "  warnings.warn(\n",
      "/Users/kaylahoffman/miniconda3/lib/python3.9/site-packages/sklearn/svm/_base.py:1237: ConvergenceWarning: Liblinear failed to converge, increase the number of iterations.\n",
      "  warnings.warn(\n",
      "/Users/kaylahoffman/miniconda3/lib/python3.9/site-packages/sklearn/svm/_base.py:1237: ConvergenceWarning: Liblinear failed to converge, increase the number of iterations.\n",
      "  warnings.warn(\n",
      "/Users/kaylahoffman/miniconda3/lib/python3.9/site-packages/sklearn/svm/_base.py:1237: ConvergenceWarning: Liblinear failed to converge, increase the number of iterations.\n",
      "  warnings.warn(\n",
      "/Users/kaylahoffman/miniconda3/lib/python3.9/site-packages/sklearn/svm/_base.py:1237: ConvergenceWarning: Liblinear failed to converge, increase the number of iterations.\n",
      "  warnings.warn(\n"
     ]
    },
    {
     "name": "stdout",
     "output_type": "stream",
     "text": [
      "Label Genus: Best C=0.1\n",
      "Best estimator: LinearSVC(C=0.1, dual=False, penalty='l1')\n",
      "Cross-validation score: 0.9426141563318501\n",
      "\n",
      "Training SVM for label Species...\n"
     ]
    },
    {
     "name": "stderr",
     "output_type": "stream",
     "text": [
      "/Users/kaylahoffman/miniconda3/lib/python3.9/site-packages/sklearn/svm/_base.py:1237: ConvergenceWarning: Liblinear failed to converge, increase the number of iterations.\n",
      "  warnings.warn(\n",
      "/Users/kaylahoffman/miniconda3/lib/python3.9/site-packages/sklearn/svm/_base.py:1237: ConvergenceWarning: Liblinear failed to converge, increase the number of iterations.\n",
      "  warnings.warn(\n",
      "/Users/kaylahoffman/miniconda3/lib/python3.9/site-packages/sklearn/svm/_base.py:1237: ConvergenceWarning: Liblinear failed to converge, increase the number of iterations.\n",
      "  warnings.warn(\n",
      "/Users/kaylahoffman/miniconda3/lib/python3.9/site-packages/sklearn/svm/_base.py:1237: ConvergenceWarning: Liblinear failed to converge, increase the number of iterations.\n",
      "  warnings.warn(\n",
      "/Users/kaylahoffman/miniconda3/lib/python3.9/site-packages/sklearn/svm/_base.py:1237: ConvergenceWarning: Liblinear failed to converge, increase the number of iterations.\n",
      "  warnings.warn(\n",
      "/Users/kaylahoffman/miniconda3/lib/python3.9/site-packages/sklearn/svm/_base.py:1237: ConvergenceWarning: Liblinear failed to converge, increase the number of iterations.\n",
      "  warnings.warn(\n",
      "/Users/kaylahoffman/miniconda3/lib/python3.9/site-packages/sklearn/svm/_base.py:1237: ConvergenceWarning: Liblinear failed to converge, increase the number of iterations.\n",
      "  warnings.warn(\n"
     ]
    },
    {
     "name": "stdout",
     "output_type": "stream",
     "text": [
      "Label Species: Best C=0.1\n",
      "Best estimator: LinearSVC(C=0.1, dual=False, penalty='l1')\n",
      "Cross-validation score: 0.9499585818422795\n",
      "\n",
      "CPU times: user 3.49 s, sys: 333 ms, total: 3.82 s\n",
      "Wall time: 13.7 s\n"
     ]
    }
   ],
   "source": [
    "%%time\n",
    "from imblearn.combine import SMOTEENN\n",
    "\n",
    "# Set up pipeline\n",
    "# Lets apply SMOTE with Under-Sampling for better balnce and performance\n",
    "pipeline = imbpipeline(steps = [['smote', SMOTEENN(random_state=42)],  # Use SMOTE in each iteration\n",
    "                                ['svm', LinearSVC()]])\n",
    "\n",
    "# Define parameter grid\n",
    "params = {\n",
    "    'penalty': ['l1'],\n",
    "    'dual': [False],\n",
    "    'C': C_small,\n",
    "    'multi_class': ['ovr'],\n",
    "    'max_iter': [1000]\n",
    "}\n",
    "\n",
    "# Train SVM for each label (multi-label scenario or one-vs-all)\n",
    "for label in y_train.columns:  # Assuming y_train is a DataFrame with columns for each label\n",
    "    print(f\"Training SVM for label {label}...\")\n",
    "        \n",
    "    # Initialize GridSearchCV object\n",
    "    svclassifier = GridSearchCV(estimator=LinearSVC(), param_grid=params, cv=10, n_jobs=8)\n",
    "        \n",
    "    # Fit the model for the current label\n",
    "    svclassifier.fit(X_train_stand, y_train[label])\n",
    "        \n",
    "    # Get the best model and cross-validation score\n",
    "    best_model = svclassifier.best_estimator_\n",
    "    best_params = svclassifier.best_params_\n",
    "    cv_score = svclassifier.best_score_\n",
    "\n",
    "    # Prediction on training and testing set\n",
    "    y_train_pred = svclassifier.predict(X_train_stand)\n",
    "    y_test_pred = svclassifier.predict(X_test_stand)\n",
    "    cv_score = svclassifier.best_score_\n",
    "    # Obtain exact match score\n",
    "    train_score = accuracy_score(y_train[label], y_train_pred)\n",
    "    test_score = accuracy_score(y_test[label], y_test_pred)\n",
    "    # Obtain hamming loss\n",
    "    hamming_loss_train = hamming_loss(y_train[label], y_train_pred)\n",
    "    hamming_loss_test = hamming_loss(y_test[label], y_test_pred)\n",
    "        \n",
    "        \n",
    "    # Report model statistics\n",
    "    print(f\"Label {label}: Best C={best_params['C']}\")\n",
    "    print(f\"Best estimator: {best_model}\")\n",
    "    print(f\"Cross-validation score: {cv_score}\\n\")"
   ]
  },
  {
   "cell_type": "markdown",
   "metadata": {},
   "source": [
    "# 2. K-Means Clustering on a Multi-Class and Multi-Label Data Set\n",
    "**Monte-Carlo Simulation:** Perform the following procedures 50 times, and report"
   ]
  },
  {
   "cell_type": "markdown",
   "metadata": {},
   "source": [
    "## (a)\n",
    "Use k-means clustering on the whole Anuran Calls (MFCCs) Data Set (do not split the data into train and test, as we are not performing supervised learning in this exercise). Choose $k \\in \\{1, 2, \\dots, 50\\}$ automatically based on one of the methods provided in the slides (CH or Gap Statistics or scree plots or Silhouettes) or any other method you know."
   ]
  },
  {
   "cell_type": "code",
   "execution_count": 25,
   "metadata": {},
   "outputs": [],
   "source": [
    "# Obtain labels and features from AnuranCalls\n",
    "AnuranCalls_features = AnuranCalls.iloc[:, :-3]\n",
    "AnuranCalls_labels = AnuranCalls.iloc[:, -3:]"
   ]
  },
  {
   "cell_type": "code",
   "execution_count": 26,
   "metadata": {},
   "outputs": [
    {
     "name": "stdout",
     "output_type": "stream",
     "text": [
      "CPU times: user 2min 9s, sys: 30.9 s, total: 2min 40s\n",
      "Wall time: 48.3 s\n"
     ]
    }
   ],
   "source": [
    "%%time\n",
    "# Use Silhouettes to find optimal K\n",
    "sil_score = list()\n",
    "k_range = [i for i in range(2, 51)]\n",
    "# Start from k=2 as Silhouette Coefficient is only defined \n",
    "# if number of labels is 2 <= n_labels <= n_samples - 1\n",
    "for k in k_range:\n",
    "    kmeans = KMeans(n_clusters=k, init=\"k-means++\", n_init=10)\n",
    "    kmeans.fit(AnuranCalls_features)\n",
    "    score = silhouette_score(AnuranCalls_features, kmeans.labels_)\n",
    "    sil_score.append(score)"
   ]
  },
  {
   "cell_type": "code",
   "execution_count": 27,
   "metadata": {},
   "outputs": [
    {
     "name": "stdout",
     "output_type": "stream",
     "text": [
      "Optimal value of k: 4\n"
     ]
    }
   ],
   "source": [
    "# Find optimal K\n",
    "optimal_k = np.argmax(sil_score)+2\n",
    "print(\"Optimal value of k:\", optimal_k)"
   ]
  },
  {
   "cell_type": "code",
   "execution_count": 28,
   "metadata": {},
   "outputs": [
    {
     "data": {
      "text/html": [
       "<div>\n",
       "<style scoped>\n",
       "    .dataframe tbody tr th:only-of-type {\n",
       "        vertical-align: middle;\n",
       "    }\n",
       "\n",
       "    .dataframe tbody tr th {\n",
       "        vertical-align: top;\n",
       "    }\n",
       "\n",
       "    .dataframe thead th {\n",
       "        text-align: right;\n",
       "    }\n",
       "</style>\n",
       "<table border=\"1\" class=\"dataframe\">\n",
       "  <thead>\n",
       "    <tr style=\"text-align: right;\">\n",
       "      <th></th>\n",
       "      <th>cluster</th>\n",
       "      <th>sil_score</th>\n",
       "    </tr>\n",
       "  </thead>\n",
       "  <tbody>\n",
       "    <tr>\n",
       "      <th>2</th>\n",
       "      <td>4</td>\n",
       "      <td>0.383995</td>\n",
       "    </tr>\n",
       "    <tr>\n",
       "      <th>3</th>\n",
       "      <td>5</td>\n",
       "      <td>0.370110</td>\n",
       "    </tr>\n",
       "    <tr>\n",
       "      <th>1</th>\n",
       "      <td>3</td>\n",
       "      <td>0.367682</td>\n",
       "    </tr>\n",
       "    <tr>\n",
       "      <th>0</th>\n",
       "      <td>2</td>\n",
       "      <td>0.348678</td>\n",
       "    </tr>\n",
       "    <tr>\n",
       "      <th>17</th>\n",
       "      <td>19</td>\n",
       "      <td>0.286204</td>\n",
       "    </tr>\n",
       "  </tbody>\n",
       "</table>\n",
       "</div>"
      ],
      "text/plain": [
       "    cluster  sil_score\n",
       "2         4   0.383995\n",
       "3         5   0.370110\n",
       "1         3   0.367682\n",
       "0         2   0.348678\n",
       "17       19   0.286204"
      ]
     },
     "metadata": {},
     "output_type": "display_data"
    }
   ],
   "source": [
    "# Report Silhouettes highest score\n",
    "sil_score_df = pd.DataFrame({'cluster' : k_range, 'sil_score' : sil_score})\n",
    "display(sil_score_df.sort_values(by=['sil_score'], ascending=False).head(5))"
   ]
  },
  {
   "cell_type": "code",
   "execution_count": 29,
   "metadata": {},
   "outputs": [
    {
     "data": {
      "image/png": "[encoded data removed]",
      "text/plain": [
       "<Figure size 800x600 with 1 Axes>"
      ]
     },
     "metadata": {},
     "output_type": "display_data"
    }
   ],
   "source": [
    "# Plot result\n",
    "plt.figure(figsize=(8, 6))  # Adjust figure size for better readability\n",
    "plt.plot(sil_score_df['cluster'], sil_score_df['sil_score'], marker='o', linestyle='-', color='blue', label='Silhouette Score')  # Add markers and styling\n",
    "\n",
    "# Add labels and title with better formatting\n",
    "plt.xlabel(\"Number of Clusters\", fontsize=12, fontweight='bold')\n",
    "plt.ylabel(\"Silhouette Score\", fontsize=12, fontweight='bold')\n",
    "plt.title(\"Silhouette Scores vs Number of Clusters\", fontsize=14, fontweight='bold')\n",
    "\n",
    "# Add gridlines for better readability\n",
    "plt.grid(alpha=0.5, linestyle='--')\n",
    "\n",
    "# Add legend\n",
    "plt.legend(loc='best', fontsize=10)\n",
    "\n",
    "# Show plot with tight layout\n",
    "plt.tight_layout()\n",
    "plt.show()\n"
   ]
  },
  {
   "cell_type": "markdown",
   "metadata": {},
   "source": [
    "## (b) \n",
    "In each cluster, determine which family is the majority by reading the true labels. Repeat for genus and species."
   ]
  },
  {
   "cell_type": "code",
   "execution_count": 30,
   "metadata": {},
   "outputs": [],
   "source": [
    "# Fit K-Means with optimal k selected\n",
    "kmeans_model = KMeans(n_clusters=optimal_k, init=\"k-means++\", n_init=10)\n",
    "kmeans_model.fit(AnuranCalls_features)\n",
    "\n",
    "# Generate dataframe to perform analysis\n",
    "kmeans_labels = pd.DataFrame({'labels': kmeans_model.labels_})\n",
    "labels_df = pd.concat([kmeans_labels, AnuranCalls_labels], axis=1)  # Kmeans labels and true labels"
   ]
  },
  {
   "cell_type": "code",
   "execution_count": 31,
   "metadata": {},
   "outputs": [],
   "source": [
    "# Hold majority information for each cluster\n",
    "label_majorityclass = dict()\n",
    "\n",
    "# Find majority in each cluster for family, genus, and species\n",
    "for i in range(0, optimal_k):\n",
    "    labels_temp_df = labels_df[labels_df[\"labels\"]==i]  # Obtain subset of dataframe based on cluster number\n",
    "    \n",
    "    majority_name = list()\n",
    "    # Find the majority class in family, genus, and species column\n",
    "    for label in AnuranCalls_labels.columns:\n",
    "        majority_name.append(labels_temp_df[label].value_counts().idxmax())\n",
    "    \n",
    "    # Store information \n",
    "    label_majorityclass[i] = majority_name"
   ]
  },
  {
   "cell_type": "code",
   "execution_count": 32,
   "metadata": {},
   "outputs": [
    {
     "data": {
      "text/plain": [
       "{0: ['Hylidae', 'Hypsiboas', 'HypsiboasCordobae'],\n",
       " 1: ['Leptodactylidae', 'Adenomera', 'AdenomeraHylaedactylus'],\n",
       " 2: ['Hylidae', 'Hypsiboas', 'HypsiboasCinerascens'],\n",
       " 3: ['Dendrobatidae', 'Ameerega', 'Ameeregatrivittata']}"
      ]
     },
     "execution_count": 32,
     "metadata": {},
     "output_type": "execute_result"
    }
   ],
   "source": [
    "label_majorityclass"
   ]
  },
  {
   "cell_type": "markdown",
   "metadata": {},
   "source": [
    "## (c) \n",
    "Now for each cluster you have a majority label triplet (family, genus, species). Calculate the average Hamming distance, Hamming score, and Hamming loss between the true labels and the labels assigned by clusters."
   ]
  },
  {
   "cell_type": "code",
   "execution_count": 33,
   "metadata": {},
   "outputs": [],
   "source": [
    "# Generate class -> index dictionary to help us iterate through information\n",
    "label_index_pointer = dict()\n",
    "index = 0\n",
    "for label in AnuranCalls_labels.columns:\n",
    "    label_index_pointer[label] = index\n",
    "    index += 1"
   ]
  },
  {
   "cell_type": "code",
   "execution_count": 34,
   "metadata": {},
   "outputs": [
    {
     "name": "stdout",
     "output_type": "stream",
     "text": [
      "Average Hamming distance: 400.083\n",
      "Average Hamming score: 0.718\n",
      "Average Hamming loss: 0.282\n"
     ]
    }
   ],
   "source": [
    "# Initialize storage using dictionary comprehension\n",
    "metrics = {\n",
    "    'distance': [],\n",
    "    'score': [],\n",
    "    'loss': []\n",
    "}\n",
    "\n",
    "# Precompute majority classes for each cluster-label pair\n",
    "majority_classes = {\n",
    "    (cluster, label): label_majorityclass[cluster][label_index_pointer[label]]\n",
    "    for cluster in range(optimal_k)\n",
    "    for label in AnuranCalls_labels.columns\n",
    "}\n",
    "\n",
    "for cluster in range(optimal_k):\n",
    "    cluster_data = labels_df[labels_df[\"labels\"] == cluster]\n",
    "    n_samples = len(cluster_data)\n",
    "    \n",
    "    if n_samples == 0:\n",
    "        continue\n",
    "        \n",
    "    cluster_metrics = {\n",
    "        'distance': [],\n",
    "        'score': [],\n",
    "        'loss': []\n",
    "    }\n",
    "    \n",
    "    for label in AnuranCalls_labels.columns:\n",
    "        # Vectorized comparison with majority class\n",
    "        correct = (cluster_data[label] == majority_classes[(cluster, label)]).values\n",
    "        incorrect = ~correct\n",
    "        \n",
    "        # Calculate metrics\n",
    "        cluster_metrics['distance'].append(incorrect.sum())\n",
    "        cluster_metrics['score'].append(correct.mean())\n",
    "        cluster_metrics['loss'].append(incorrect.mean())\n",
    "    \n",
    "    # Store cluster-level averages\n",
    "    for metric in metrics:\n",
    "        metrics[metric].append(np.mean(cluster_metrics[metric]))\n",
    "\n",
    "# Calculate final averages\n",
    "final_metrics = {metric: np.mean(values) for metric, values in metrics.items()}\n",
    "\n",
    "# Print results with f-strings\n",
    "print(f\"Average Hamming distance: {final_metrics['distance']:.3f}\")\n",
    "print(f\"Average Hamming score: {final_metrics['score']:.3f}\")\n",
    "print(f\"Average Hamming loss: {final_metrics['loss']:.3f}\")\n"
   ]
  },
  {
   "cell_type": "markdown",
   "metadata": {},
   "source": [
    "### Monte Carlo Simulation"
   ]
  },
  {
   "cell_type": "code",
   "execution_count": 36,
   "metadata": {},
   "outputs": [
    {
     "name": "stdout",
     "output_type": "stream",
     "text": [
      "Simulation 10/50\n",
      "Average Hamming Distance: 400.000\n",
      "Average Hamming Score: 0.718\n",
      "Average Hamming Loss: 0.282\n",
      "\n",
      "Simulation 20/50\n",
      "Average Hamming Distance: 400.000\n",
      "Average Hamming Score: 0.718\n",
      "Average Hamming Loss: 0.282\n",
      "\n",
      "Simulation 30/50\n",
      "Average Hamming Distance: 400.000\n",
      "Average Hamming Score: 0.718\n",
      "Average Hamming Loss: 0.282\n",
      "\n",
      "Simulation 40/50\n",
      "Average Hamming Distance: 400.000\n",
      "Average Hamming Score: 0.718\n",
      "Average Hamming Loss: 0.282\n",
      "\n"
     ]
    }
   ],
   "source": [
    "# Monte Carlo Simulation parameters\n",
    "num_simulations = 50  # Number of simulations\n",
    "k_range = range(2, 51)  # Range of clusters\n",
    "\n",
    "# Results storage\n",
    "montecarlo_hamming_distance = []\n",
    "montecarlo_hamming_score = []\n",
    "montecarlo_hamming_loss = []\n",
    "\n",
    "# Set random seed for reproducibility\n",
    "np.random.seed(42)\n",
    "\n",
    "# Find optimal k using silhouette score\n",
    "def find_optimal_k(features, k_range):\n",
    "    \n",
    "    sil_scores = []\n",
    "    for k in k_range:\n",
    "        kmeans = KMeans(n_clusters=k, init=\"k-means++\", n_init=10, random_state=np.random.randint(0, 10000))\n",
    "        kmeans.fit(features)\n",
    "        sil_scores.append(silhouette_score(features, kmeans.labels_))\n",
    "    return np.argmax(sil_scores) + 2\n",
    "\n",
    "# Calculate majority class for each cluster\n",
    "def calculate_majority_classes(labels_df, optimal_k):\n",
    "    \n",
    "    return labels_df.groupby('labels').agg(lambda x: x.value_counts().idxmax()).to_dict('index')\n",
    "\n",
    "# Calculate Hamming distance, score, and loss\n",
    "def calculate_hamming_metrics(labels_df, majority_classes, true_labels_columns):\n",
    "\n",
    "    hamming_distance = []\n",
    "    hamming_score = []\n",
    "    hamming_loss = []\n",
    "    \n",
    "    for cluster_label, majority_class in majority_classes.items():\n",
    "        labels_temp_df = labels_df[labels_df['labels'] == cluster_label]\n",
    "        total_samples = labels_temp_df.shape[0]\n",
    "        \n",
    "        for label in true_labels_columns:\n",
    "            correct_labels = (labels_temp_df[label] == majority_class[label]).sum()\n",
    "            incorrect_labels = total_samples - correct_labels\n",
    "            \n",
    "            hamming_distance.append(incorrect_labels)\n",
    "            hamming_score.append(correct_labels / total_samples)\n",
    "            hamming_loss.append(incorrect_labels / total_samples)\n",
    "    \n",
    "    avg_hamming_distance = statistics.mean(hamming_distance)\n",
    "    avg_hamming_score = statistics.mean(hamming_score)\n",
    "    avg_hamming_loss = statistics.mean(hamming_loss)\n",
    "    \n",
    "    return avg_hamming_distance, avg_hamming_score, avg_hamming_loss\n",
    "\n",
    "# Main Simulation Loop\n",
    "for sim in range(num_simulations):\n",
    "    # Part (a): Find optimal k using silhouette score\n",
    "    optimal_k = find_optimal_k(AnuranCalls_features, k_range)\n",
    "    \n",
    "    # Part (b): Fit K-Means with optimal k and calculate majority class per cluster\n",
    "    kmeans_model = KMeans(n_clusters=optimal_k, init=\"k-means++\", n_init=10, random_state=42)\n",
    "    kmeans_model.fit(AnuranCalls_features)\n",
    "    \n",
    "    labels_df = pd.concat([pd.DataFrame({'labels': kmeans_model.labels_}), AnuranCalls_labels], axis=1)\n",
    "    majority_classes = calculate_majority_classes(labels_df, optimal_k)\n",
    "    \n",
    "    # Part (c): Calculate Hamming metrics\n",
    "    avg_hamming_distance, avg_hamming_score, avg_hamming_loss = calculate_hamming_metrics(\n",
    "        labels_df,\n",
    "        majority_classes,\n",
    "        AnuranCalls_labels.columns\n",
    "    )\n",
    "    \n",
    "    # Save results for each simulation\n",
    "    montecarlo_hamming_distance.append(avg_hamming_distance)\n",
    "    montecarlo_hamming_score.append(avg_hamming_score)\n",
    "    montecarlo_hamming_loss.append(avg_hamming_loss)\n",
    "    \n",
    "    # Output iteration result every 10 iterations\n",
    "    if (sim + 1) % 10 == 0:\n",
    "        print(f\"Simulation {sim + 1}/{num_simulations}\")\n",
    "        print(f\"Average Hamming Distance: {avg_hamming_distance:.3f}\")\n",
    "        print(f\"Average Hamming Score: {avg_hamming_score:.3f}\")\n",
    "        print(f\"Average Hamming Loss: {avg_hamming_loss:.3f}\\n\")\n"
   ]
  },
  {
   "cell_type": "code",
   "execution_count": null,
   "metadata": {},
   "outputs": [],
   "source": [
    "# Report result of average and standard deviation of hamming distance after 50 iterations\n",
    "average_montecarlo_hamming_distance = statistics.mean(montecarlo_hamming_distance)\n",
    "stdev_montecarlo_hamming_distance = statistics.stdev(montecarlo_hamming_distance)\n",
    "\n",
    "print(f\"Average hamming distance: {average_montecarlo_hamming_distance:.3f}\")\n",
    "print(f\"Standard deviation: {stdev_montecarlo_hamming_distance:.3f}\")"
   ]
  },
  {
   "cell_type": "markdown",
   "metadata": {},
   "source": [
    "# 3. ISLR 12.6.2"
   ]
  },
  {
   "cell_type": "markdown",
   "metadata": {},
   "source": [
    "### A)\n",
    " On the basis of this dissimilarity matrix, sketch the dendrogram that results from hierarchical clustering these four observations using complete linkage. Be sure to indicate on the plot the height at which each fusion occurs, as well as the observations corresponding to each leaf in the dendrogram "
   ]
  },
  {
   "cell_type": "code",
   "execution_count": null,
   "metadata": {},
   "outputs": [],
   "source": [
    "import scipy.cluster.hierarchy as sch \n",
    "\n",
    "# Given dissimilarity matrix (symmetric)\n",
    "dissimilarity_matrix = np.array([\n",
    "    [0.0, 0.3, 0.4, 0.7],\n",
    "    [0.3, 0.0, 0.5, 0.8],\n",
    "    [0.4, 0.5, 0.0, 0.45],\n",
    "    [0.7, 0.8, 0.45, 0.0]\n",
    "])\n",
    "\n",
    "# Convert the dissimilarity matrix to a distance matrix for hierarchical clustering\n",
    "distance_matrix = dissimilarity_matrix[np.triu_indices_from(dissimilarity_matrix, k=1)]\n",
    "\n",
    "# Perform hierarchical clustering using complete linkage\n",
    "Z_complete = sch.linkage(distance_matrix, method='complete')\n",
    "\n",
    "# Plot the dendrogram for complete linkage\n",
    "plt.figure(figsize=(8, 6))\n",
    "sch.dendrogram(Z_complete, labels=['1', '2', '3', '4'], leaf_font_size=12)\n",
    "plt.title('Dendrogram for Complete Linkage')\n",
    "plt.xlabel('Observations')\n",
    "plt.ylabel('Dissimilarity')\n",
    "plt.show()\n"
   ]
  },
  {
   "cell_type": "markdown",
   "metadata": {},
   "source": [
    "## B) \n",
    "Repeat A this time using single linkage "
   ]
  },
  {
   "cell_type": "code",
   "execution_count": null,
   "metadata": {},
   "outputs": [],
   "source": [
    "# Perform hierarchical clustering using single linkage\n",
    "Z_single = sch.linkage(distance_matrix, method='single')\n",
    "\n",
    "# Plot the dendrogram for single linkage\n",
    "plt.figure(figsize=(8, 6))\n",
    "sch.dendrogram(Z_single, labels=['1', '2', '3', '4'], leaf_font_size=12)\n",
    "plt.title('Dendrogram for Single Linkage')\n",
    "plt.xlabel('Observations')\n",
    "plt.ylabel('Dissimilarity')\n",
    "plt.show()\n"
   ]
  },
  {
   "cell_type": "markdown",
   "metadata": {},
   "source": [
    "## C) \n",
    "Suppose that we cut the dendrogram obtained in (a) such that two clusters result. Which observations are in each cluster? \n",
    "\n",
    "Cluster 1 would have observations 1 and 2. Cluster 2 would have observations 3 and 4. "
   ]
  },
  {
   "cell_type": "markdown",
   "metadata": {},
   "source": [
    "## D) \n",
    "Suppose that we cut the dendrogram obtained in (d) such that two clusters result. Which observations are in each cluster?\n",
    "\n",
    "Cluster 1 would have observations 1, 2, and 3. Cluster 2 would just have observation 4. "
   ]
  },
  {
   "cell_type": "markdown",
   "metadata": {},
   "source": [
    "## E) \n",
    "It is mentioned in the chapter that at each fusion in the dendrogram, the position of the two clusters being fused can be swapped without changing the meaning of the dendrogram. Draw a dendrogram that is equivalent to the dendrogram in (a), for which two or more of the leaves are repositioned, but for which the meaning of the dendrogram is the same."
   ]
  },
  {
   "cell_type": "code",
   "execution_count": null,
   "metadata": {},
   "outputs": [],
   "source": [
    "# Re-import necessary libraries after code state reset\n",
    "import numpy as np\n",
    "import scipy.cluster.hierarchy as sch\n",
    "import matplotlib.pyplot as plt\n",
    "\n",
    "# Recreate the dissimilarity matrix\n",
    "dissimilarity_matrix = np.array([\n",
    "    [0.0, 0.3, 0.4, 0.7],\n",
    "    [0.3, 0.0, 0.5, 0.8],\n",
    "    [0.4, 0.5, 0.0, 0.45],\n",
    "    [0.7, 0.8, 0.45, 0.0]\n",
    "])\n",
    "\n",
    "# Convert to condensed distance matrix format\n",
    "distance_matrix = dissimilarity_matrix[np.triu_indices_from(dissimilarity_matrix, k=1)]\n",
    "\n",
    "# Complete linkage clustering\n",
    "Z_complete = sch.linkage(distance_matrix, method='complete')\n",
    "\n",
    "# Plot reordered dendrogram (equivalent, but with leaves repositioned)\n",
    "plt.figure(figsize=(8, 6))\n",
    "sch.dendrogram(Z_complete, labels=['1', '2', '3', '4'], \n",
    "               leaf_rotation=90., \n",
    "               leaf_font_size=12, \n",
    "               orientation='top',\n",
    "               above_threshold_color='black',\n",
    "               color_threshold=0.8,\n",
    "               distance_sort='ascending')\n",
    "plt.title('Equivalent Dendrogram (Part e): Reordered Leaves')\n",
    "plt.xlabel('Observations')\n",
    "plt.ylabel('Dissimilarity')\n",
    "plt.show()\n"
   ]
  },
  {
   "cell_type": "code",
   "execution_count": null,
   "metadata": {},
   "outputs": [],
   "source": []
  }
 ],
 "metadata": {
  "kernelspec": {
   "display_name": "tf",
   "language": "python",
   "name": "tf"
  },
  "language_info": {
   "codemirror_mode": {
    "name": "ipython",
    "version": 3
   },
   "file_extension": ".py",
   "mimetype": "text/x-python",
   "name": "python",
   "nbconvert_exporter": "python",
   "pygments_lexer": "ipython3",
   "version": "3.9.18"
  },
  "orig_nbformat": 4
 },
 "nbformat": 4,
 "nbformat_minor": 2
}
